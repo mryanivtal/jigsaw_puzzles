{
  "cells": [
    {
      "cell_type": "markdown",
      "source": [
        "# Classification of Jigsaw Puzzles -  Cats Vs. Dogs"
      ],
      "metadata": {
        "id": "-ZtVyMVwCHk7"
      },
      "id": "-ZtVyMVwCHk7"
    },
    {
      "cell_type": "markdown",
      "source": [
        "## Colab Environment setup"
      ],
      "metadata": {
        "id": "n7KdyD3R_rLU"
      },
      "id": "n7KdyD3R_rLU"
    },
    {
      "cell_type": "markdown",
      "id": "eab64bd9-b826-4c39-9f01-d2822c1e60e2",
      "metadata": {
        "id": "eab64bd9-b826-4c39-9f01-d2822c1e60e2"
      },
      "source": [
        "### Installations and mounts"
      ]
    },
    {
      "cell_type": "code",
      "source": [
        "!pip install lightning"
      ],
      "metadata": {
        "colab": {
          "base_uri": "https://localhost:8080/"
        },
        "id": "dF7i2bFMtryN",
        "outputId": "1f27c6aa-b52c-4c19-b999-f4e8fef63275"
      },
      "id": "dF7i2bFMtryN",
      "execution_count": 1,
      "outputs": [
        {
          "output_type": "stream",
          "name": "stdout",
          "text": [
            "Collecting lightning\n",
            "  Downloading lightning-2.1.3-py3-none-any.whl (2.0 MB)\n",
            "\u001b[2K     \u001b[90m━━━━━━━━━━━━━━━━━━━━━━━━━━━━━━━━━━━━━━━━\u001b[0m \u001b[32m2.0/2.0 MB\u001b[0m \u001b[31m7.7 MB/s\u001b[0m eta \u001b[36m0:00:00\u001b[0m\n",
            "\u001b[?25hRequirement already satisfied: PyYAML<8.0,>=5.4 in /usr/local/lib/python3.10/dist-packages (from lightning) (6.0.1)\n",
            "Requirement already satisfied: fsspec[http]<2025.0,>=2022.5.0 in /usr/local/lib/python3.10/dist-packages (from lightning) (2023.6.0)\n",
            "Collecting lightning-utilities<2.0,>=0.8.0 (from lightning)\n",
            "  Downloading lightning_utilities-0.10.0-py3-none-any.whl (24 kB)\n",
            "Requirement already satisfied: numpy<3.0,>=1.17.2 in /usr/local/lib/python3.10/dist-packages (from lightning) (1.23.5)\n",
            "Requirement already satisfied: packaging<25.0,>=20.0 in /usr/local/lib/python3.10/dist-packages (from lightning) (23.2)\n",
            "Requirement already satisfied: torch<4.0,>=1.12.0 in /usr/local/lib/python3.10/dist-packages (from lightning) (2.1.0+cu121)\n",
            "Collecting torchmetrics<3.0,>=0.7.0 (from lightning)\n",
            "  Downloading torchmetrics-1.3.0-py3-none-any.whl (840 kB)\n",
            "\u001b[2K     \u001b[90m━━━━━━━━━━━━━━━━━━━━━━━━━━━━━━━━━━━━━━━━\u001b[0m \u001b[32m840.2/840.2 kB\u001b[0m \u001b[31m19.2 MB/s\u001b[0m eta \u001b[36m0:00:00\u001b[0m\n",
            "\u001b[?25hRequirement already satisfied: tqdm<6.0,>=4.57.0 in /usr/local/lib/python3.10/dist-packages (from lightning) (4.66.1)\n",
            "Requirement already satisfied: typing-extensions<6.0,>=4.0.0 in /usr/local/lib/python3.10/dist-packages (from lightning) (4.5.0)\n",
            "Collecting pytorch-lightning (from lightning)\n",
            "  Downloading pytorch_lightning-2.1.3-py3-none-any.whl (777 kB)\n",
            "\u001b[2K     \u001b[90m━━━━━━━━━━━━━━━━━━━━━━━━━━━━━━━━━━━━━━━━\u001b[0m \u001b[32m777.7/777.7 kB\u001b[0m \u001b[31m30.9 MB/s\u001b[0m eta \u001b[36m0:00:00\u001b[0m\n",
            "\u001b[?25hRequirement already satisfied: requests in /usr/local/lib/python3.10/dist-packages (from fsspec[http]<2025.0,>=2022.5.0->lightning) (2.31.0)\n",
            "Requirement already satisfied: aiohttp!=4.0.0a0,!=4.0.0a1 in /usr/local/lib/python3.10/dist-packages (from fsspec[http]<2025.0,>=2022.5.0->lightning) (3.9.1)\n",
            "Requirement already satisfied: setuptools in /usr/local/lib/python3.10/dist-packages (from lightning-utilities<2.0,>=0.8.0->lightning) (67.7.2)\n",
            "Requirement already satisfied: filelock in /usr/local/lib/python3.10/dist-packages (from torch<4.0,>=1.12.0->lightning) (3.13.1)\n",
            "Requirement already satisfied: sympy in /usr/local/lib/python3.10/dist-packages (from torch<4.0,>=1.12.0->lightning) (1.12)\n",
            "Requirement already satisfied: networkx in /usr/local/lib/python3.10/dist-packages (from torch<4.0,>=1.12.0->lightning) (3.2.1)\n",
            "Requirement already satisfied: jinja2 in /usr/local/lib/python3.10/dist-packages (from torch<4.0,>=1.12.0->lightning) (3.1.2)\n",
            "Requirement already satisfied: triton==2.1.0 in /usr/local/lib/python3.10/dist-packages (from torch<4.0,>=1.12.0->lightning) (2.1.0)\n",
            "Requirement already satisfied: attrs>=17.3.0 in /usr/local/lib/python3.10/dist-packages (from aiohttp!=4.0.0a0,!=4.0.0a1->fsspec[http]<2025.0,>=2022.5.0->lightning) (23.2.0)\n",
            "Requirement already satisfied: multidict<7.0,>=4.5 in /usr/local/lib/python3.10/dist-packages (from aiohttp!=4.0.0a0,!=4.0.0a1->fsspec[http]<2025.0,>=2022.5.0->lightning) (6.0.4)\n",
            "Requirement already satisfied: yarl<2.0,>=1.0 in /usr/local/lib/python3.10/dist-packages (from aiohttp!=4.0.0a0,!=4.0.0a1->fsspec[http]<2025.0,>=2022.5.0->lightning) (1.9.4)\n",
            "Requirement already satisfied: frozenlist>=1.1.1 in /usr/local/lib/python3.10/dist-packages (from aiohttp!=4.0.0a0,!=4.0.0a1->fsspec[http]<2025.0,>=2022.5.0->lightning) (1.4.1)\n",
            "Requirement already satisfied: aiosignal>=1.1.2 in /usr/local/lib/python3.10/dist-packages (from aiohttp!=4.0.0a0,!=4.0.0a1->fsspec[http]<2025.0,>=2022.5.0->lightning) (1.3.1)\n",
            "Requirement already satisfied: async-timeout<5.0,>=4.0 in /usr/local/lib/python3.10/dist-packages (from aiohttp!=4.0.0a0,!=4.0.0a1->fsspec[http]<2025.0,>=2022.5.0->lightning) (4.0.3)\n",
            "Requirement already satisfied: MarkupSafe>=2.0 in /usr/local/lib/python3.10/dist-packages (from jinja2->torch<4.0,>=1.12.0->lightning) (2.1.3)\n",
            "Requirement already satisfied: charset-normalizer<4,>=2 in /usr/local/lib/python3.10/dist-packages (from requests->fsspec[http]<2025.0,>=2022.5.0->lightning) (3.3.2)\n",
            "Requirement already satisfied: idna<4,>=2.5 in /usr/local/lib/python3.10/dist-packages (from requests->fsspec[http]<2025.0,>=2022.5.0->lightning) (3.6)\n",
            "Requirement already satisfied: urllib3<3,>=1.21.1 in /usr/local/lib/python3.10/dist-packages (from requests->fsspec[http]<2025.0,>=2022.5.0->lightning) (2.0.7)\n",
            "Requirement already satisfied: certifi>=2017.4.17 in /usr/local/lib/python3.10/dist-packages (from requests->fsspec[http]<2025.0,>=2022.5.0->lightning) (2023.11.17)\n",
            "Requirement already satisfied: mpmath>=0.19 in /usr/local/lib/python3.10/dist-packages (from sympy->torch<4.0,>=1.12.0->lightning) (1.3.0)\n",
            "Installing collected packages: lightning-utilities, torchmetrics, pytorch-lightning, lightning\n",
            "Successfully installed lightning-2.1.3 lightning-utilities-0.10.0 pytorch-lightning-2.1.3 torchmetrics-1.3.0\n"
          ]
        }
      ]
    },
    {
      "cell_type": "code",
      "execution_count": 2,
      "id": "e5da3920-59f9-4c9d-8207-a10a9b806861",
      "metadata": {
        "id": "e5da3920-59f9-4c9d-8207-a10a9b806861"
      },
      "outputs": [],
      "source": [
        "from pathlib import Path\n",
        "# --- Run setting - colab or local\n",
        "ENVIRONMENT = 'Colab'\n",
        "\n",
        "# --- Paths\n",
        "DRIVE_PROJECT_PATH = Path('/content/drive/MyDrive/mlds_final_project/project')\n",
        "LOCAL_PROJECT_PATH = Path.cwd().parent"
      ]
    },
    {
      "cell_type": "code",
      "source": [
        "# --- Mount google drive\n",
        "if ENVIRONMENT == 'Colab':\n",
        "    from google.colab import drive\n",
        "    drive.mount('/content/drive')\n",
        "    PROJECT_PATH = DRIVE_PROJECT_PATH\n",
        "\n",
        "else:\n",
        "    raise ValueError(f'ENVIRONMENT - Only Colab runs are supported here!')"
      ],
      "metadata": {
        "colab": {
          "base_uri": "https://localhost:8080/"
        },
        "id": "qY2nPQSu49_H",
        "outputId": "e93579a6-d980-42b4-df70-e808e1e0e764"
      },
      "id": "qY2nPQSu49_H",
      "execution_count": 3,
      "outputs": [
        {
          "output_type": "stream",
          "name": "stdout",
          "text": [
            "Mounted at /content/drive\n"
          ]
        }
      ]
    },
    {
      "cell_type": "markdown",
      "id": "f18dd0ff-663c-4615-a8e1-9a883cbee341",
      "metadata": {
        "id": "f18dd0ff-663c-4615-a8e1-9a883cbee341"
      },
      "source": [
        "### Download dataset from Drive"
      ]
    },
    {
      "cell_type": "code",
      "source": [
        "train_zip_path =  PROJECT_PATH / Path('cats_vs_dogs_dataset/train.zip')\n",
        "test_zip_path =  PROJECT_PATH / Path('cats_vs_dogs_dataset/test_labeled.zip')\n",
        "\n",
        "assert train_zip_path.exists(), f'Could not find data on drive: {train_zip_path}'\n",
        "assert test_zip_path.exists(), f'Could not find data on drive: {test_zip_path}'\n",
        "\n",
        "data_path = Path('./data')\n",
        "TRAIN_DATA_PATH = data_path / Path('train')\n",
        "TEST_DATA_PATH = data_path / Path('test')\n",
        "\n",
        "print(f'Train data path on colab: {TRAIN_DATA_PATH.absolute()}')\n",
        "print(f'Test data path on colab: {TEST_DATA_PATH.absolute()}')\n"
      ],
      "metadata": {
        "colab": {
          "base_uri": "https://localhost:8080/"
        },
        "id": "YoqEpmI_8YKS",
        "outputId": "da1cc93d-236e-4db3-da0d-a6c002af5467"
      },
      "id": "YoqEpmI_8YKS",
      "execution_count": 4,
      "outputs": [
        {
          "output_type": "stream",
          "name": "stdout",
          "text": [
            "Train data path on colab: /content/data/train\n",
            "Test data path on colab: /content/data/test\n"
          ]
        }
      ]
    },
    {
      "cell_type": "code",
      "execution_count": 5,
      "id": "2ff93283-3ae1-4854-b166-b9dd46ca6fdd",
      "metadata": {
        "id": "2ff93283-3ae1-4854-b166-b9dd46ca6fdd",
        "colab": {
          "base_uri": "https://localhost:8080/"
        },
        "outputId": "00174c53-1fb9-48a6-eeb8-e2f6d93014bd"
      },
      "outputs": [
        {
          "output_type": "stream",
          "name": "stdout",
          "text": [
            "Deleting existing data folder\n",
            "Copying datasets from drive\n",
            "Extracting ZIP files\n",
            "Deleting zip files\n"
          ]
        }
      ],
      "source": [
        "import shutil\n",
        "import zipfile\n",
        "\n",
        "FORCE_DATA_DOWNLOAD = False\n",
        "\n",
        "if not ENVIRONMENT == 'Colab':\n",
        "  raise Exception('Auto data download only works in Colab mode!')\n",
        "\n",
        "# --- check folder existance\n",
        "if not data_path.exists() or FORCE_DATA_DOWNLOAD:\n",
        "    print('Deleting existing data folder')\n",
        "    if data_path.exists():\n",
        "        shutil.rmtree(data_path)\n",
        "\n",
        "    data_path.mkdir(parents=True, exist_ok=True)\n",
        "    print('Copying datasets from drive')\n",
        "    new_test_zip_path = data_path / test_zip_path.name\n",
        "    shutil.copy(test_zip_path, new_test_zip_path)\n",
        "\n",
        "    new_train_zip_path = data_path / train_zip_path.name\n",
        "    shutil.copy(train_zip_path, new_train_zip_path)\n",
        "\n",
        "    print('Extracting ZIP files')\n",
        "    with zipfile.ZipFile(new_test_zip_path, 'r') as zip_ref:\n",
        "        zip_ref.extractall(data_path)\n",
        "\n",
        "    with zipfile.ZipFile(new_train_zip_path, 'r') as zip_ref:\n",
        "        zip_ref.extractall(data_path)\n",
        "\n",
        "    print('Deleting zip files')\n",
        "    new_test_zip_path.unlink()\n",
        "    new_train_zip_path.unlink()\n",
        "\n"
      ]
    },
    {
      "cell_type": "markdown",
      "source": [
        "The available constants for use after the above code runs:\n",
        "\n",
        "\n",
        "*   PROJECT_PATH - Project root path\n",
        "*   TRAIN_DATA_PATH - train data path\n",
        "*   TEST_DATA_PATH - test data path\n",
        "\n"
      ],
      "metadata": {
        "id": "LEyvtlyexMv8"
      },
      "id": "LEyvtlyexMv8"
    },
    {
      "cell_type": "markdown",
      "source": [
        "### Download code from drive"
      ],
      "metadata": {
        "id": "hy7Mn6FP6_Nk"
      },
      "id": "hy7Mn6FP6_Nk"
    },
    {
      "cell_type": "code",
      "source": [
        "colab_src_path =  PROJECT_PATH / Path('src.zip')\n",
        "assert colab_src_path.exists(), f'Could not find data on drive: {src_path}'\n",
        "\n",
        "local_src_path = Path('./src')\n",
        "\n",
        "import shutil\n",
        "import zipfile\n",
        "\n",
        "FORCE_SRC_DOWNLOAD = True\n",
        "\n",
        "if not ENVIRONMENT == 'Colab':\n",
        "  raise Exception('Auto data download only works in Colab mode!')\n",
        "\n",
        "# --- check folder existance\n",
        "if not local_src_path.exists() or FORCE_SRC_DOWNLOAD:\n",
        "    print('Deleting existing src folder')\n",
        "    if local_src_path.exists():\n",
        "        shutil.rmtree(local_src_path)\n",
        "\n",
        "    local_src_path.mkdir(parents=True, exist_ok=True)\n",
        "\n",
        "    print('Copying src from drive')\n",
        "    new_src_path = local_src_path / colab_src_path.name\n",
        "    shutil.copy(colab_src_path, new_src_path)\n",
        "\n",
        "    print('Extracting ZIP file')\n",
        "    with zipfile.ZipFile(new_src_path, 'r') as src_ref:\n",
        "        src_ref.extractall('./')\n",
        "\n",
        "\n",
        "    print('Deleting zip file')\n",
        "    new_src_path.unlink()\n",
        "\n"
      ],
      "metadata": {
        "colab": {
          "base_uri": "https://localhost:8080/"
        },
        "id": "egDOk7Zk6ElT",
        "outputId": "035c480a-65c5-4f1f-db91-0c6a4c3ebdf3"
      },
      "id": "egDOk7Zk6ElT",
      "execution_count": 7,
      "outputs": [
        {
          "output_type": "stream",
          "name": "stdout",
          "text": [
            "Deleting existing src folder\n",
            "Copying src from drive\n",
            "Extracting ZIP file\n",
            "Deleting zip file\n"
          ]
        }
      ]
    },
    {
      "cell_type": "markdown",
      "source": [
        "## Run"
      ],
      "metadata": {
        "id": "30sWwV5j_r06"
      },
      "id": "30sWwV5j_r06"
    },
    {
      "cell_type": "code",
      "source": [
        "from glob import glob\n",
        "import json\n",
        "\n",
        "from google.colab import runtime\n",
        "\n",
        "from src.trainer.execute_experiment import execute_experiment\n",
        "from src.trainer.util_functions.util_functions import load_dict_from_json\n",
        "\n",
        "\n",
        "run_config_path = '/content/src/runners/run_configs'\n",
        "\n",
        "configs_list = glob(f'{Path(run_config_path).absolute()}/*.json')\n",
        "print('Configurations found:')\n",
        "print(configs_list)\n",
        "\n",
        "for run_config_path in configs_list:\n",
        "    print('==========================================')\n",
        "    print(f'Starting to run: {run_config_path}')\n",
        "    print('==========================================')\n",
        "\n",
        "\n",
        "    run_params = load_dict_from_json(run_config_path)\n",
        "    execute_experiment(run_params, PROJECT_PATH, TRAIN_DATA_PATH, TEST_DATA_PATH)\n",
        "\n",
        "print('==========================================')\n",
        "print('-----------All Done!----------------------')\n",
        "print('==========================================')\n",
        "\n",
        "runtime.unassign()\n",
        "\n"
      ],
      "metadata": {
        "colab": {
          "base_uri": "https://localhost:8080/"
        },
        "id": "FxWip62r-9j3",
        "outputId": "7584cb1e-2752-46fe-f25a-d19dcff9954b"
      },
      "id": "FxWip62r-9j3",
      "execution_count": null,
      "outputs": [
        {
          "output_type": "stream",
          "name": "stdout",
          "text": [
            "Configurations found:\n",
            "['/content/src/runners/run_configs/jigsaw_resnet18_5x5_random.json', '/content/src/runners/run_configs/jigsaw_resnet18_2x2_random.json', '/content/src/runners/run_configs/jigsaw_resnet18_3x3_random.json', '/content/src/runners/run_configs/jigsaw_resnet18_4x4_random.json', '/content/src/runners/run_configs/test_run.json']\n",
            "==========================================\n",
            "Starting to run: /content/src/runners/run_configs/jigsaw_resnet18_5x5_random.json\n",
            "==========================================\n",
            "Run output path: /content/drive/MyDrive/mlds_final_project/project/outputs/jigsaw_resnet18_5x5_random_12_01_2024__01_11_05\n",
            "Creating Datasets\n"
          ]
        },
        {
          "output_type": "stream",
          "name": "stderr",
          "text": [
            "/usr/local/lib/python3.10/dist-packages/torchvision/models/_utils.py:208: UserWarning: The parameter 'pretrained' is deprecated since 0.13 and may be removed in the future, please use 'weights' instead.\n",
            "  warnings.warn(\n",
            "/usr/local/lib/python3.10/dist-packages/torchvision/models/_utils.py:223: UserWarning: Arguments other than a weight enum or `None` for 'weights' are deprecated since 0.13 and may be removed in the future. The current behavior is equivalent to passing `weights=ResNet18_Weights.IMAGENET1K_V1`. You can also use `weights=ResNet18_Weights.DEFAULT` to get the most up-to-date weights.\n",
            "  warnings.warn(msg)\n",
            "Downloading: \"https://download.pytorch.org/models/resnet18-f37072fd.pth\" to /root/.cache/torch/hub/checkpoints/resnet18-f37072fd.pth\n",
            "100%|██████████| 44.7M/44.7M [00:00<00:00, 142MB/s]\n"
          ]
        },
        {
          "output_type": "stream",
          "name": "stdout",
          "text": [
            "TrainLogsCallback:\n",
            "Running on: Train: True, Validation: True, Test: False\n",
            "Saving logs to: /content/drive/MyDrive/mlds_final_project/project/outputs/jigsaw_resnet18_5x5_random_12_01_2024__01_11_05/train_log\n",
            "\n",
            "TrainLogsCallback:\n",
            "Running on: Train: False, Validation: False, Test: True\n",
            "Saving logs to: /content/drive/MyDrive/mlds_final_project/project/outputs/jigsaw_resnet18_5x5_random_12_01_2024__01_11_05/test_log\n",
            "\n",
            "PerSampleCsvLogCallback:\n",
            "Running on: Train: False, Validation: False, Test: True\n",
            "Saving logs to: /content/drive/MyDrive/mlds_final_project/project/outputs/jigsaw_resnet18_5x5_random_12_01_2024__01_11_05/test_predictions_log\n",
            "\n"
          ]
        },
        {
          "output_type": "stream",
          "name": "stderr",
          "text": [
            "INFO: GPU available: True (cuda), used: True\n",
            "INFO:lightning.pytorch.utilities.rank_zero:GPU available: True (cuda), used: True\n",
            "INFO: TPU available: False, using: 0 TPU cores\n",
            "INFO:lightning.pytorch.utilities.rank_zero:TPU available: False, using: 0 TPU cores\n",
            "INFO: IPU available: False, using: 0 IPUs\n",
            "INFO:lightning.pytorch.utilities.rank_zero:IPU available: False, using: 0 IPUs\n",
            "INFO: HPU available: False, using: 0 HPUs\n",
            "INFO:lightning.pytorch.utilities.rank_zero:HPU available: False, using: 0 HPUs\n",
            "WARNING: Missing logger folder: /content/drive/MyDrive/mlds_final_project/project/outputs/jigsaw_resnet18_5x5_random_12_01_2024__01_11_05/tb_logs\n",
            "WARNING:lightning.pytorch.loggers.tensorboard:Missing logger folder: /content/drive/MyDrive/mlds_final_project/project/outputs/jigsaw_resnet18_5x5_random_12_01_2024__01_11_05/tb_logs\n",
            "INFO: LOCAL_RANK: 0 - CUDA_VISIBLE_DEVICES: [0]\n",
            "INFO:lightning.pytorch.accelerators.cuda:LOCAL_RANK: 0 - CUDA_VISIBLE_DEVICES: [0]\n",
            "INFO: \n",
            "  | Name      | Type    | Params\n",
            "--------------------------------------\n",
            "0 | model     | ResNet  | 11.2 M\n",
            "1 | criterion | BCELoss | 0     \n",
            "--------------------------------------\n",
            "11.2 M    Trainable params\n",
            "0         Non-trainable params\n",
            "11.2 M    Total params\n",
            "44.708    Total estimated model params size (MB)\n",
            "INFO:lightning.pytorch.callbacks.model_summary:\n",
            "  | Name      | Type    | Params\n",
            "--------------------------------------\n",
            "0 | model     | ResNet  | 11.2 M\n",
            "1 | criterion | BCELoss | 0     \n",
            "--------------------------------------\n",
            "11.2 M    Trainable params\n",
            "0         Non-trainable params\n",
            "11.2 M    Total params\n",
            "44.708    Total estimated model params size (MB)\n"
          ]
        }
      ]
    }
  ],
  "metadata": {
    "kernelspec": {
      "display_name": "Python 3",
      "name": "python3"
    },
    "language_info": {
      "codemirror_mode": {
        "name": "ipython",
        "version": 3
      },
      "file_extension": ".py",
      "mimetype": "text/x-python",
      "name": "python",
      "nbconvert_exporter": "python",
      "pygments_lexer": "ipython3",
      "version": "3.10.8"
    },
    "colab": {
      "provenance": [],
      "gpuType": "T4",
      "collapsed_sections": [
        "eab64bd9-b826-4c39-9f01-d2822c1e60e2"
      ]
    },
    "accelerator": "GPU"
  },
  "nbformat": 4,
  "nbformat_minor": 5
}