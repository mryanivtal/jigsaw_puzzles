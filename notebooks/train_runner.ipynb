{
  "cells": [
    {
      "cell_type": "markdown",
      "metadata": {
        "id": "-ZtVyMVwCHk7"
      },
      "source": [
        "# Classification of Jigsaw Puzzles -  Cats Vs. Dogs"
      ],
      "id": "-ZtVyMVwCHk7"
    },
    {
      "cell_type": "markdown",
      "metadata": {
        "id": "n7KdyD3R_rLU"
      },
      "source": [
        "## Colab Environment setup"
      ],
      "id": "n7KdyD3R_rLU"
    },
    {
      "cell_type": "markdown",
      "metadata": {
        "id": "eab64bd9-b826-4c39-9f01-d2822c1e60e2"
      },
      "source": [
        "### Installations and mounts"
      ],
      "id": "eab64bd9-b826-4c39-9f01-d2822c1e60e2"
    },
    {
      "cell_type": "code",
      "execution_count": 1,
      "metadata": {
        "colab": {
          "base_uri": "https://localhost:8080/"
        },
        "id": "dF7i2bFMtryN",
        "outputId": "6ccb2f18-3f02-40e6-8ef8-d4b7ae027c17"
      },
      "outputs": [
        {
          "output_type": "stream",
          "name": "stdout",
          "text": [
            "Requirement already satisfied: lightning in /usr/local/lib/python3.10/dist-packages (2.1.4)\n",
            "Requirement already satisfied: PyYAML<8.0,>=5.4 in /usr/local/lib/python3.10/dist-packages (from lightning) (6.0.1)\n",
            "Requirement already satisfied: fsspec[http]<2025.0,>=2022.5.0 in /usr/local/lib/python3.10/dist-packages (from lightning) (2023.6.0)\n",
            "Requirement already satisfied: lightning-utilities<2.0,>=0.8.0 in /usr/local/lib/python3.10/dist-packages (from lightning) (0.10.1)\n",
            "Requirement already satisfied: numpy<3.0,>=1.17.2 in /usr/local/lib/python3.10/dist-packages (from lightning) (1.23.5)\n",
            "Requirement already satisfied: packaging<25.0,>=20.0 in /usr/local/lib/python3.10/dist-packages (from lightning) (23.2)\n",
            "Requirement already satisfied: torch<4.0,>=1.12.0 in /usr/local/lib/python3.10/dist-packages (from lightning) (2.1.0+cu121)\n",
            "Requirement already satisfied: torchmetrics<3.0,>=0.7.0 in /usr/local/lib/python3.10/dist-packages (from lightning) (1.3.0.post0)\n",
            "Requirement already satisfied: tqdm<6.0,>=4.57.0 in /usr/local/lib/python3.10/dist-packages (from lightning) (4.66.1)\n",
            "Requirement already satisfied: typing-extensions<6.0,>=4.0.0 in /usr/local/lib/python3.10/dist-packages (from lightning) (4.5.0)\n",
            "Requirement already satisfied: pytorch-lightning in /usr/local/lib/python3.10/dist-packages (from lightning) (2.1.4)\n",
            "Requirement already satisfied: requests in /usr/local/lib/python3.10/dist-packages (from fsspec[http]<2025.0,>=2022.5.0->lightning) (2.31.0)\n",
            "Requirement already satisfied: aiohttp!=4.0.0a0,!=4.0.0a1 in /usr/local/lib/python3.10/dist-packages (from fsspec[http]<2025.0,>=2022.5.0->lightning) (3.9.3)\n",
            "Requirement already satisfied: setuptools in /usr/local/lib/python3.10/dist-packages (from lightning-utilities<2.0,>=0.8.0->lightning) (67.7.2)\n",
            "Requirement already satisfied: filelock in /usr/local/lib/python3.10/dist-packages (from torch<4.0,>=1.12.0->lightning) (3.13.1)\n",
            "Requirement already satisfied: sympy in /usr/local/lib/python3.10/dist-packages (from torch<4.0,>=1.12.0->lightning) (1.12)\n",
            "Requirement already satisfied: networkx in /usr/local/lib/python3.10/dist-packages (from torch<4.0,>=1.12.0->lightning) (3.2.1)\n",
            "Requirement already satisfied: jinja2 in /usr/local/lib/python3.10/dist-packages (from torch<4.0,>=1.12.0->lightning) (3.1.3)\n",
            "Requirement already satisfied: triton==2.1.0 in /usr/local/lib/python3.10/dist-packages (from torch<4.0,>=1.12.0->lightning) (2.1.0)\n",
            "Requirement already satisfied: aiosignal>=1.1.2 in /usr/local/lib/python3.10/dist-packages (from aiohttp!=4.0.0a0,!=4.0.0a1->fsspec[http]<2025.0,>=2022.5.0->lightning) (1.3.1)\n",
            "Requirement already satisfied: attrs>=17.3.0 in /usr/local/lib/python3.10/dist-packages (from aiohttp!=4.0.0a0,!=4.0.0a1->fsspec[http]<2025.0,>=2022.5.0->lightning) (23.2.0)\n",
            "Requirement already satisfied: frozenlist>=1.1.1 in /usr/local/lib/python3.10/dist-packages (from aiohttp!=4.0.0a0,!=4.0.0a1->fsspec[http]<2025.0,>=2022.5.0->lightning) (1.4.1)\n",
            "Requirement already satisfied: multidict<7.0,>=4.5 in /usr/local/lib/python3.10/dist-packages (from aiohttp!=4.0.0a0,!=4.0.0a1->fsspec[http]<2025.0,>=2022.5.0->lightning) (6.0.4)\n",
            "Requirement already satisfied: yarl<2.0,>=1.0 in /usr/local/lib/python3.10/dist-packages (from aiohttp!=4.0.0a0,!=4.0.0a1->fsspec[http]<2025.0,>=2022.5.0->lightning) (1.9.4)\n",
            "Requirement already satisfied: async-timeout<5.0,>=4.0 in /usr/local/lib/python3.10/dist-packages (from aiohttp!=4.0.0a0,!=4.0.0a1->fsspec[http]<2025.0,>=2022.5.0->lightning) (4.0.3)\n",
            "Requirement already satisfied: MarkupSafe>=2.0 in /usr/local/lib/python3.10/dist-packages (from jinja2->torch<4.0,>=1.12.0->lightning) (2.1.4)\n",
            "Requirement already satisfied: charset-normalizer<4,>=2 in /usr/local/lib/python3.10/dist-packages (from requests->fsspec[http]<2025.0,>=2022.5.0->lightning) (3.3.2)\n",
            "Requirement already satisfied: idna<4,>=2.5 in /usr/local/lib/python3.10/dist-packages (from requests->fsspec[http]<2025.0,>=2022.5.0->lightning) (3.6)\n",
            "Requirement already satisfied: urllib3<3,>=1.21.1 in /usr/local/lib/python3.10/dist-packages (from requests->fsspec[http]<2025.0,>=2022.5.0->lightning) (2.0.7)\n",
            "Requirement already satisfied: certifi>=2017.4.17 in /usr/local/lib/python3.10/dist-packages (from requests->fsspec[http]<2025.0,>=2022.5.0->lightning) (2023.11.17)\n",
            "Requirement already satisfied: mpmath>=0.19 in /usr/local/lib/python3.10/dist-packages (from sympy->torch<4.0,>=1.12.0->lightning) (1.3.0)\n"
          ]
        }
      ],
      "source": [
        "!pip install lightning"
      ],
      "id": "dF7i2bFMtryN"
    },
    {
      "cell_type": "code",
      "source": [
        "!pip install timm"
      ],
      "metadata": {
        "colab": {
          "base_uri": "https://localhost:8080/"
        },
        "id": "0STn6QkOQ-Ir",
        "outputId": "497db107-4d77-452c-f880-d83001d28de4"
      },
      "id": "0STn6QkOQ-Ir",
      "execution_count": 2,
      "outputs": [
        {
          "output_type": "stream",
          "name": "stdout",
          "text": [
            "Requirement already satisfied: timm in /usr/local/lib/python3.10/dist-packages (0.9.12)\n",
            "Requirement already satisfied: torch>=1.7 in /usr/local/lib/python3.10/dist-packages (from timm) (2.1.0+cu121)\n",
            "Requirement already satisfied: torchvision in /usr/local/lib/python3.10/dist-packages (from timm) (0.16.0+cu121)\n",
            "Requirement already satisfied: pyyaml in /usr/local/lib/python3.10/dist-packages (from timm) (6.0.1)\n",
            "Requirement already satisfied: huggingface-hub in /usr/local/lib/python3.10/dist-packages (from timm) (0.20.3)\n",
            "Requirement already satisfied: safetensors in /usr/local/lib/python3.10/dist-packages (from timm) (0.4.2)\n",
            "Requirement already satisfied: filelock in /usr/local/lib/python3.10/dist-packages (from torch>=1.7->timm) (3.13.1)\n",
            "Requirement already satisfied: typing-extensions in /usr/local/lib/python3.10/dist-packages (from torch>=1.7->timm) (4.5.0)\n",
            "Requirement already satisfied: sympy in /usr/local/lib/python3.10/dist-packages (from torch>=1.7->timm) (1.12)\n",
            "Requirement already satisfied: networkx in /usr/local/lib/python3.10/dist-packages (from torch>=1.7->timm) (3.2.1)\n",
            "Requirement already satisfied: jinja2 in /usr/local/lib/python3.10/dist-packages (from torch>=1.7->timm) (3.1.3)\n",
            "Requirement already satisfied: fsspec in /usr/local/lib/python3.10/dist-packages (from torch>=1.7->timm) (2023.6.0)\n",
            "Requirement already satisfied: triton==2.1.0 in /usr/local/lib/python3.10/dist-packages (from torch>=1.7->timm) (2.1.0)\n",
            "Requirement already satisfied: requests in /usr/local/lib/python3.10/dist-packages (from huggingface-hub->timm) (2.31.0)\n",
            "Requirement already satisfied: tqdm>=4.42.1 in /usr/local/lib/python3.10/dist-packages (from huggingface-hub->timm) (4.66.1)\n",
            "Requirement already satisfied: packaging>=20.9 in /usr/local/lib/python3.10/dist-packages (from huggingface-hub->timm) (23.2)\n",
            "Requirement already satisfied: numpy in /usr/local/lib/python3.10/dist-packages (from torchvision->timm) (1.23.5)\n",
            "Requirement already satisfied: pillow!=8.3.*,>=5.3.0 in /usr/local/lib/python3.10/dist-packages (from torchvision->timm) (9.4.0)\n",
            "Requirement already satisfied: MarkupSafe>=2.0 in /usr/local/lib/python3.10/dist-packages (from jinja2->torch>=1.7->timm) (2.1.4)\n",
            "Requirement already satisfied: charset-normalizer<4,>=2 in /usr/local/lib/python3.10/dist-packages (from requests->huggingface-hub->timm) (3.3.2)\n",
            "Requirement already satisfied: idna<4,>=2.5 in /usr/local/lib/python3.10/dist-packages (from requests->huggingface-hub->timm) (3.6)\n",
            "Requirement already satisfied: urllib3<3,>=1.21.1 in /usr/local/lib/python3.10/dist-packages (from requests->huggingface-hub->timm) (2.0.7)\n",
            "Requirement already satisfied: certifi>=2017.4.17 in /usr/local/lib/python3.10/dist-packages (from requests->huggingface-hub->timm) (2023.11.17)\n",
            "Requirement already satisfied: mpmath>=0.19 in /usr/local/lib/python3.10/dist-packages (from sympy->torch>=1.7->timm) (1.3.0)\n"
          ]
        }
      ]
    },
    {
      "cell_type": "code",
      "execution_count": 3,
      "metadata": {
        "id": "e5da3920-59f9-4c9d-8207-a10a9b806861"
      },
      "outputs": [],
      "source": [
        "from pathlib import Path\n",
        "# --- Run setting - colab or local\n",
        "ENVIRONMENT = 'Colab'\n",
        "\n",
        "# --- Paths\n",
        "DRIVE_PROJECT_PATH = Path('/content/drive/MyDrive/mlds_final_project/project')\n",
        "LOCAL_PROJECT_PATH = Path.cwd().parent"
      ],
      "id": "e5da3920-59f9-4c9d-8207-a10a9b806861"
    },
    {
      "cell_type": "code",
      "execution_count": 4,
      "metadata": {
        "colab": {
          "base_uri": "https://localhost:8080/"
        },
        "id": "qY2nPQSu49_H",
        "outputId": "2a6f12c2-9878-428e-e468-8b21c10e8240"
      },
      "outputs": [
        {
          "output_type": "stream",
          "name": "stdout",
          "text": [
            "Drive already mounted at /content/drive; to attempt to forcibly remount, call drive.mount(\"/content/drive\", force_remount=True).\n"
          ]
        }
      ],
      "source": [
        "# --- Mount google drive\n",
        "if ENVIRONMENT == 'Colab':\n",
        "    from google.colab import drive\n",
        "    drive.mount('/content/drive')\n",
        "    PROJECT_PATH = DRIVE_PROJECT_PATH\n",
        "\n",
        "else:\n",
        "    raise ValueError(f'ENVIRONMENT - Only Colab runs are supported here!')"
      ],
      "id": "qY2nPQSu49_H"
    },
    {
      "cell_type": "markdown",
      "metadata": {
        "id": "f18dd0ff-663c-4615-a8e1-9a883cbee341"
      },
      "source": [
        "### Download dataset from Drive"
      ],
      "id": "f18dd0ff-663c-4615-a8e1-9a883cbee341"
    },
    {
      "cell_type": "code",
      "execution_count": 5,
      "metadata": {
        "colab": {
          "base_uri": "https://localhost:8080/"
        },
        "id": "YoqEpmI_8YKS",
        "outputId": "513fb7a6-7d84-4e80-d467-0f150ab74127"
      },
      "outputs": [
        {
          "output_type": "stream",
          "name": "stdout",
          "text": [
            "Train data path on colab: /content/data/train\n",
            "Test data path on colab: /content/data/test\n"
          ]
        }
      ],
      "source": [
        "train_zip_path =  PROJECT_PATH / Path('cats_vs_dogs_dataset/train.zip')\n",
        "# train_zip_path =  PROJECT_PATH / Path('cats_vs_dogs_dataset/animals_and_more.zip')\n",
        "test_zip_path =  PROJECT_PATH / Path('cats_vs_dogs_dataset/test_labeled.zip')\n",
        "\n",
        "assert train_zip_path.exists(), f'Could not find data on drive: {train_zip_path}'\n",
        "assert test_zip_path.exists(), f'Could not find data on drive: {test_zip_path}'\n",
        "\n",
        "data_path = Path('./data')\n",
        "TRAIN_DATA_PATH = data_path / Path('train')\n",
        "TEST_DATA_PATH = data_path / Path('test')\n",
        "\n",
        "print(f'Train data path on colab: {TRAIN_DATA_PATH.absolute()}')\n",
        "print(f'Test data path on colab: {TEST_DATA_PATH.absolute()}')\n"
      ],
      "id": "YoqEpmI_8YKS"
    },
    {
      "cell_type": "code",
      "execution_count": 6,
      "metadata": {
        "id": "2ff93283-3ae1-4854-b166-b9dd46ca6fdd"
      },
      "outputs": [],
      "source": [
        "import shutil\n",
        "import zipfile\n",
        "\n",
        "FORCE_DATA_DOWNLOAD = False\n",
        "\n",
        "if not ENVIRONMENT == 'Colab':\n",
        "  raise Exception('Auto data download only works in Colab mode!')\n",
        "\n",
        "# --- check folder existance\n",
        "if not data_path.exists() or FORCE_DATA_DOWNLOAD:\n",
        "    print('Deleting existing data folder')\n",
        "    if data_path.exists():\n",
        "        shutil.rmtree(data_path)\n",
        "\n",
        "    data_path.mkdir(parents=True, exist_ok=True)\n",
        "    print('Copying datasets from drive')\n",
        "    new_test_zip_path = data_path / test_zip_path.name\n",
        "    shutil.copy(test_zip_path, new_test_zip_path)\n",
        "\n",
        "    new_train_zip_path = data_path / train_zip_path.name\n",
        "    shutil.copy(train_zip_path, new_train_zip_path)\n",
        "\n",
        "    print('Extracting ZIP files')\n",
        "    with zipfile.ZipFile(new_test_zip_path, 'r') as zip_ref:\n",
        "        zip_ref.extractall(data_path)\n",
        "\n",
        "    with zipfile.ZipFile(new_train_zip_path, 'r') as zip_ref:\n",
        "        zip_ref.extractall(data_path)\n",
        "\n",
        "    print('Deleting zip files')\n",
        "    new_test_zip_path.unlink()\n",
        "    new_train_zip_path.unlink()\n",
        "\n"
      ],
      "id": "2ff93283-3ae1-4854-b166-b9dd46ca6fdd"
    },
    {
      "cell_type": "markdown",
      "metadata": {
        "id": "LEyvtlyexMv8"
      },
      "source": [
        "The available constants for use after the above code runs:\n",
        "\n",
        "\n",
        "*   PROJECT_PATH - Project root path\n",
        "*   TRAIN_DATA_PATH - train data path\n",
        "*   TEST_DATA_PATH - test data path\n",
        "\n"
      ],
      "id": "LEyvtlyexMv8"
    },
    {
      "cell_type": "markdown",
      "metadata": {
        "id": "hy7Mn6FP6_Nk"
      },
      "source": [
        "### Download code from drive"
      ],
      "id": "hy7Mn6FP6_Nk"
    },
    {
      "cell_type": "code",
      "execution_count": 7,
      "metadata": {
        "id": "egDOk7Zk6ElT"
      },
      "outputs": [],
      "source": [
        "colab_src_path =  PROJECT_PATH / Path('notebooks/src.zip')\n",
        "assert colab_src_path.exists(), f'Could not find data on drive: {colab_src_path}'\n",
        "\n",
        "local_src_path = Path('./src')\n",
        "\n",
        "import shutil\n",
        "import zipfile\n",
        "\n",
        "FORCE_SRC_DOWNLOAD = False\n",
        "\n",
        "if not ENVIRONMENT == 'Colab':\n",
        "  raise Exception('Auto data download only works in Colab mode!')\n",
        "\n",
        "# --- check folder existance\n",
        "if not local_src_path.exists() or FORCE_SRC_DOWNLOAD:\n",
        "    print('Deleting existing src folder')\n",
        "    if local_src_path.exists():\n",
        "        shutil.rmtree(local_src_path)\n",
        "\n",
        "    local_src_path.mkdir(parents=True, exist_ok=True)\n",
        "\n",
        "    print('Copying src from drive')\n",
        "    new_src_path = local_src_path / colab_src_path.name\n",
        "    shutil.copy(colab_src_path, new_src_path)\n",
        "\n",
        "    print('Extracting ZIP file')\n",
        "    with zipfile.ZipFile(new_src_path, 'r') as src_ref:\n",
        "        src_ref.extractall('./')\n",
        "\n",
        "\n",
        "    print('Deleting zip file')\n",
        "    new_src_path.unlink()\n"
      ],
      "id": "egDOk7Zk6ElT"
    },
    {
      "cell_type": "markdown",
      "source": [
        "### Download pretrained models from drive\n"
      ],
      "metadata": {
        "id": "blH_YYmkzSKd"
      },
      "id": "blH_YYmkzSKd"
    },
    {
      "cell_type": "code",
      "source": [
        "from genericpath import exists\n",
        "\n",
        "pcpvt_small_path =  PROJECT_PATH / Path('pretrained_models/pcpvt_small.pth')\n",
        "\n",
        "local_models_path = Path('/content/models')\n",
        "local_models_path.mkdir(exist_ok=True, parents=True)\n",
        "\n",
        "pcpvt_small_local_path = local_models_path / Path('pcpvt_small.pth')\n",
        "\n",
        "if pcpvt_small_path.exists():\n",
        "    shutil.copy(pcpvt_small_path, pcpvt_small_local_path)\n"
      ],
      "metadata": {
        "id": "9-aWbVylzSXy"
      },
      "id": "9-aWbVylzSXy",
      "execution_count": 8,
      "outputs": []
    },
    {
      "cell_type": "markdown",
      "metadata": {
        "id": "30sWwV5j_r06"
      },
      "source": [
        "## Run"
      ],
      "id": "30sWwV5j_r06"
    },
    {
      "cell_type": "code",
      "execution_count": 9,
      "metadata": {
        "colab": {
          "base_uri": "https://localhost:8080/",
          "height": 182
        },
        "id": "Mi00NRTb5_Sg",
        "outputId": "0dd55986-b162-4ee5-baf4-b8101220a983"
      },
      "outputs": [
        {
          "output_type": "error",
          "ename": "Exception",
          "evalue": "",
          "traceback": [
            "\u001b[0;31m---------------------------------------------------------------------------\u001b[0m",
            "\u001b[0;31mException\u001b[0m                                 Traceback (most recent call last)",
            "\u001b[0;32m<ipython-input-9-2aee0157c87b>\u001b[0m in \u001b[0;36m<cell line: 1>\u001b[0;34m()\u001b[0m\n\u001b[0;32m----> 1\u001b[0;31m \u001b[0;32mraise\u001b[0m \u001b[0mException\u001b[0m\u001b[0;34m\u001b[0m\u001b[0;34m\u001b[0m\u001b[0m\n\u001b[0m",
            "\u001b[0;31mException\u001b[0m: "
          ]
        }
      ],
      "source": [
        "raise Exception"
      ],
      "id": "Mi00NRTb5_Sg"
    },
    {
      "cell_type": "markdown",
      "metadata": {
        "id": "C45r-pzZUJZw"
      },
      "source": [
        "### ================================= Stop Here! =====================\n",
        "* Check what configurations you want to run\n",
        "* Put them in a folder\n",
        "* Use the below cell to scan the folder and make sure you run the right config\n",
        "* Then go ahead and continue"
      ],
      "id": "C45r-pzZUJZw"
    },
    {
      "cell_type": "markdown",
      "metadata": {
        "id": "x7p4mhEuqjQh"
      },
      "source": [
        "### Map configurations"
      ],
      "id": "x7p4mhEuqjQh"
    },
    {
      "cell_type": "code",
      "execution_count": 10,
      "metadata": {
        "colab": {
          "base_uri": "https://localhost:8080/"
        },
        "id": "FxWip62r-9j3",
        "outputId": "022bf9e2-136c-40a7-b17e-b950da22ffe1"
      },
      "outputs": [
        {
          "output_type": "stream",
          "name": "stdout",
          "text": [
            "Configurations found:\n",
            "/content/src/runners/train_test_runners/run_configs/pcpvtSmallPretrained_resize224_patch4_lr1e3_plainImage.json\n"
          ]
        }
      ],
      "source": [
        "from glob import glob\n",
        "\n",
        "run_config_path = '/content/src/runners/train_test_runners/run_configs'\n",
        "\n",
        "configs_list = glob(f'{Path(run_config_path).absolute()}/*.json')\n",
        "print('Configurations found:')\n",
        "for c in configs_list:\n",
        "    print(c)"
      ],
      "id": "FxWip62r-9j3"
    },
    {
      "cell_type": "markdown",
      "metadata": {
        "id": "YzTubE7KqlMi"
      },
      "source": [
        "### Run!"
      ],
      "id": "YzTubE7KqlMi"
    },
    {
      "cell_type": "code",
      "execution_count": null,
      "metadata": {
        "colab": {
          "base_uri": "https://localhost:8080/",
          "height": 1000,
          "referenced_widgets": [
            "ad905069aff14c40b2d3f189196cb609",
            "a563c3ad446c4b0a990aa1fcc140fd0f",
            "f6a0ed50d80545b989971c92d7aa5e08",
            "51f726eaf7f5406197e264e7725b3129",
            "517bd4323c4c4e03845a2c5cf74f2cf2",
            "caf5f5da253b4cc798a3f39772d1ea46",
            "03f3a13abe0c470b82cbf32532987884",
            "90273b1049ac4d8a95c56e631cc24193",
            "1b6ccec6f9b044fd953160623a0d3653",
            "bdcfd05ad3ae441892a9d5bdb97ad29f",
            "7b164c8d374e4b33a9d8f4f31ebb8e36",
            "daf62d2a1c1a4ee196e1cd93a042f2b5",
            "c364898179d44b34bb764791f4ab5e91",
            "4d4ac288e0984c37a95b80c1123fb0ff",
            "771c909c08cd46129d663acac4aab0f6",
            "1b6faca3c9e44c4782d9983cc84598d3",
            "4275a5bb93f2405299a0a91ec09c5f50",
            "eda6a1ddad824c7e985bdce69d5a7a1d",
            "bcf8735db78b4f51b1365f8c4840f384",
            "f9c49f4ae3b54ccdb8c01bca738d2cd8",
            "2598d6a30417463dbde185f925f1f598",
            "4bf268d34a6640f0a136798d0379648a",
            "35cfb9e3464e4e0db6e3ede9d530c7f6",
            "8d35a295f3ce4e208bde33705b9d7a46",
            "7461f62abcde4c9dbd869fd8f45e9d28",
            "e4e1ccb669bf4fb79199c40e18a72af7",
            "cedb58661c9348c3b4750a46c5e1fd12",
            "3d10e9178eed4b8db22bc301e55e165d",
            "862b9af2e6da4c0e8708b967beed7b60",
            "44ce26ae59b74a4caa6b9c404325af07",
            "76a51fc6720a4bf7b6c02965138e62d1",
            "93304495cc524780a006da6b3b3764d0",
            "b2ecb4ed5ed244b3b7a1a8915040309d",
            "4be50da29f3c42cebc61d8d8a34cc52a",
            "f946b9de1c5544d89dba5e47098c44bf",
            "15e351d150204d2282614789070c6c85",
            "20fa47defb0d49ceb344828b39ffa0dc",
            "739c4d6d91754289b6add6697d28cc37",
            "f7a1b7feb03840b6a20bde32c605608a",
            "0d82f1b8faec41949508a45192e54e3d",
            "3e2d9fbddd02483c84a9bf86de3b3429",
            "bede85c26b984922a4204bfff4dd3830",
            "ad5d73a277bb485195daa3a6544213b6",
            "6901cc44bf684cbb9b65f25d6e8fee63"
          ]
        },
        "id": "6DnnqTTAp0Pr",
        "outputId": "934b296f-1bf4-463a-ccc4-46f7469b2123"
      },
      "outputs": [
        {
          "output_type": "stream",
          "name": "stdout",
          "text": [
            "\u001b[96m============================================================================================\u001b[0m\n",
            "\u001b[96mStarting to run: /content/src/runners/train_test_runners/run_configs/pcpvtSmallPretrained_resize224_patch4_lr1e3_plainImage.json\u001b[0m\n",
            "\u001b[96m============================================================================================\u001b[0m\n",
            "Run output path: /content/drive/MyDrive/mlds_final_project/project/outputs/pcpvtSmallPretrained_resize224_patch4_lr1e3_plainImage_20240206_103011\n",
            "Creating Datasets\n",
            "TrainLogsCallback:\n",
            "Running on: Train: True, Validation: True, Test: False\n",
            "Saving logs to: /content/drive/MyDrive/mlds_final_project/project/outputs/pcpvtSmallPretrained_resize224_patch4_lr1e3_plainImage_20240206_103011/train_log\n",
            "\n",
            "TrainLogsCallback:\n",
            "Running on: Train: False, Validation: False, Test: True\n",
            "Saving logs to: /content/drive/MyDrive/mlds_final_project/project/outputs/pcpvtSmallPretrained_resize224_patch4_lr1e3_plainImage_20240206_103011/test_log\n",
            "\n",
            "PerSampleCsvLogCallback:\n",
            "Running on: Train: False, Validation: False, Test: True\n",
            "Saving logs to: /content/drive/MyDrive/mlds_final_project/project/outputs/pcpvtSmallPretrained_resize224_patch4_lr1e3_plainImage_20240206_103011/test_predictions_log\n",
            "\n"
          ]
        },
        {
          "output_type": "stream",
          "name": "stderr",
          "text": [
            "INFO: GPU available: True (cuda), used: True\n",
            "INFO:lightning.pytorch.utilities.rank_zero:GPU available: True (cuda), used: True\n",
            "INFO: TPU available: False, using: 0 TPU cores\n",
            "INFO:lightning.pytorch.utilities.rank_zero:TPU available: False, using: 0 TPU cores\n",
            "INFO: IPU available: False, using: 0 IPUs\n",
            "INFO:lightning.pytorch.utilities.rank_zero:IPU available: False, using: 0 IPUs\n",
            "INFO: HPU available: False, using: 0 HPUs\n",
            "INFO:lightning.pytorch.utilities.rank_zero:HPU available: False, using: 0 HPUs\n",
            "WARNING: Missing logger folder: /content/drive/MyDrive/mlds_final_project/project/outputs/pcpvtSmallPretrained_resize224_patch4_lr1e3_plainImage_20240206_103011/tb_logs\n",
            "WARNING:lightning.pytorch.loggers.tensorboard:Missing logger folder: /content/drive/MyDrive/mlds_final_project/project/outputs/pcpvtSmallPretrained_resize224_patch4_lr1e3_plainImage_20240206_103011/tb_logs\n"
          ]
        },
        {
          "output_type": "stream",
          "name": "stdout",
          "text": [
            "\u001b[94mStarting train \u001b[0m\n"
          ]
        },
        {
          "output_type": "stream",
          "name": "stderr",
          "text": [
            "INFO: LOCAL_RANK: 0 - CUDA_VISIBLE_DEVICES: [0]\n",
            "INFO:lightning.pytorch.accelerators.cuda:LOCAL_RANK: 0 - CUDA_VISIBLE_DEVICES: [0]\n",
            "INFO: \n",
            "  | Name              | Type    | Params\n",
            "----------------------------------------------\n",
            "0 | model             | CPVTV2  | 23.6 M\n",
            "1 | criterion         | BCELoss | 0     \n",
            "2 | output_normalizer | Sigmoid | 0     \n",
            "----------------------------------------------\n",
            "23.6 M    Trainable params\n",
            "0         Non-trainable params\n",
            "23.6 M    Total params\n",
            "94.375    Total estimated model params size (MB)\n",
            "INFO:lightning.pytorch.callbacks.model_summary:\n",
            "  | Name              | Type    | Params\n",
            "----------------------------------------------\n",
            "0 | model             | CPVTV2  | 23.6 M\n",
            "1 | criterion         | BCELoss | 0     \n",
            "2 | output_normalizer | Sigmoid | 0     \n",
            "----------------------------------------------\n",
            "23.6 M    Trainable params\n",
            "0         Non-trainable params\n",
            "23.6 M    Total params\n",
            "94.375    Total estimated model params size (MB)\n"
          ]
        },
        {
          "output_type": "display_data",
          "data": {
            "text/plain": [
              "Sanity Checking: |          | 0/? [00:00<?, ?it/s]"
            ],
            "application/vnd.jupyter.widget-view+json": {
              "version_major": 2,
              "version_minor": 0,
              "model_id": "ad905069aff14c40b2d3f189196cb609"
            }
          },
          "metadata": {}
        },
        {
          "output_type": "display_data",
          "data": {
            "text/plain": [
              "Training: |          | 0/? [00:00<?, ?it/s]"
            ],
            "application/vnd.jupyter.widget-view+json": {
              "version_major": 2,
              "version_minor": 0,
              "model_id": "daf62d2a1c1a4ee196e1cd93a042f2b5"
            }
          },
          "metadata": {}
        },
        {
          "output_type": "display_data",
          "data": {
            "text/plain": [
              "Validation: |          | 0/? [00:00<?, ?it/s]"
            ],
            "application/vnd.jupyter.widget-view+json": {
              "version_major": 2,
              "version_minor": 0,
              "model_id": "35cfb9e3464e4e0db6e3ede9d530c7f6"
            }
          },
          "metadata": {}
        },
        {
          "output_type": "display_data",
          "data": {
            "text/plain": [
              "Validation: |          | 0/? [00:00<?, ?it/s]"
            ],
            "application/vnd.jupyter.widget-view+json": {
              "version_major": 2,
              "version_minor": 0,
              "model_id": "4be50da29f3c42cebc61d8d8a34cc52a"
            }
          },
          "metadata": {}
        }
      ],
      "source": [
        "from google.colab import runtime\n",
        "\n",
        "from src.trainer.trainer_modules.train_flow import execute_train_flow\n",
        "from src.util_functions.util_functions import load_dict_from_json\n",
        "from src.util_functions.printc import printc\n",
        "\n",
        "for run_config_path in configs_list:\n",
        "    printc.cyan('============================================================================================')\n",
        "    printc.cyan(f'Starting to run: {run_config_path}')\n",
        "    printc.cyan('============================================================================================')\n",
        "\n",
        "    run_params = load_dict_from_json(run_config_path)\n",
        "    execute_train_flow(run_params, PROJECT_PATH, TRAIN_DATA_PATH, TEST_DATA_PATH, stop_before_fit=False)\n",
        "\n",
        "printc.cyan('============================================================================================')\n",
        "printc.cyan('-------------------------------------All Done!----------------------------------------------')\n",
        "printc.cyan('============================================================================================')\n",
        "\n"
      ],
      "id": "6DnnqTTAp0Pr"
    },
    {
      "cell_type": "markdown",
      "metadata": {
        "id": "wdNCYlNI9_HU"
      },
      "source": [
        "### Discnnect runtime"
      ],
      "id": "wdNCYlNI9_HU"
    },
    {
      "cell_type": "code",
      "execution_count": null,
      "metadata": {
        "id": "S8wmRknO99hw"
      },
      "outputs": [],
      "source": [
        "runtime.unassign()"
      ],
      "id": "S8wmRknO99hw"
    },
    {
      "cell_type": "code",
      "source": [
        "import gc\n",
        "gc.collect()"
      ],
      "metadata": {
        "id": "LFsTkqlPBQxe"
      },
      "id": "LFsTkqlPBQxe",
      "execution_count": null,
      "outputs": []
    }
  ],
  "metadata": {
    "accelerator": "GPU",
    "colab": {
      "provenance": [],
      "gpuType": "V100",
      "collapsed_sections": [
        "eab64bd9-b826-4c39-9f01-d2822c1e60e2"
      ]
    },
    "kernelspec": {
      "display_name": "Python 3",
      "name": "python3"
    },
    "language_info": {
      "codemirror_mode": {
        "name": "ipython",
        "version": 3
      },
      "file_extension": ".py",
      "mimetype": "text/x-python",
      "name": "python",
      "nbconvert_exporter": "python",
      "pygments_lexer": "ipython3",
      "version": "3.10.8"
    },
    "widgets": {
      "application/vnd.jupyter.widget-state+json": {
        "ad905069aff14c40b2d3f189196cb609": {
          "model_module": "@jupyter-widgets/controls",
          "model_name": "HBoxModel",
          "model_module_version": "1.5.0",
          "state": {
            "_dom_classes": [],
            "_model_module": "@jupyter-widgets/controls",
            "_model_module_version": "1.5.0",
            "_model_name": "HBoxModel",
            "_view_count": null,
            "_view_module": "@jupyter-widgets/controls",
            "_view_module_version": "1.5.0",
            "_view_name": "HBoxView",
            "box_style": "",
            "children": [
              "IPY_MODEL_a563c3ad446c4b0a990aa1fcc140fd0f",
              "IPY_MODEL_f6a0ed50d80545b989971c92d7aa5e08",
              "IPY_MODEL_51f726eaf7f5406197e264e7725b3129"
            ],
            "layout": "IPY_MODEL_517bd4323c4c4e03845a2c5cf74f2cf2"
          }
        },
        "a563c3ad446c4b0a990aa1fcc140fd0f": {
          "model_module": "@jupyter-widgets/controls",
          "model_name": "HTMLModel",
          "model_module_version": "1.5.0",
          "state": {
            "_dom_classes": [],
            "_model_module": "@jupyter-widgets/controls",
            "_model_module_version": "1.5.0",
            "_model_name": "HTMLModel",
            "_view_count": null,
            "_view_module": "@jupyter-widgets/controls",
            "_view_module_version": "1.5.0",
            "_view_name": "HTMLView",
            "description": "",
            "description_tooltip": null,
            "layout": "IPY_MODEL_caf5f5da253b4cc798a3f39772d1ea46",
            "placeholder": "​",
            "style": "IPY_MODEL_03f3a13abe0c470b82cbf32532987884",
            "value": "Sanity Checking DataLoader 0: 100%"
          }
        },
        "f6a0ed50d80545b989971c92d7aa5e08": {
          "model_module": "@jupyter-widgets/controls",
          "model_name": "FloatProgressModel",
          "model_module_version": "1.5.0",
          "state": {
            "_dom_classes": [],
            "_model_module": "@jupyter-widgets/controls",
            "_model_module_version": "1.5.0",
            "_model_name": "FloatProgressModel",
            "_view_count": null,
            "_view_module": "@jupyter-widgets/controls",
            "_view_module_version": "1.5.0",
            "_view_name": "ProgressView",
            "bar_style": "",
            "description": "",
            "description_tooltip": null,
            "layout": "IPY_MODEL_90273b1049ac4d8a95c56e631cc24193",
            "max": 1,
            "min": 0,
            "orientation": "horizontal",
            "style": "IPY_MODEL_1b6ccec6f9b044fd953160623a0d3653",
            "value": 1
          }
        },
        "51f726eaf7f5406197e264e7725b3129": {
          "model_module": "@jupyter-widgets/controls",
          "model_name": "HTMLModel",
          "model_module_version": "1.5.0",
          "state": {
            "_dom_classes": [],
            "_model_module": "@jupyter-widgets/controls",
            "_model_module_version": "1.5.0",
            "_model_name": "HTMLModel",
            "_view_count": null,
            "_view_module": "@jupyter-widgets/controls",
            "_view_module_version": "1.5.0",
            "_view_name": "HTMLView",
            "description": "",
            "description_tooltip": null,
            "layout": "IPY_MODEL_bdcfd05ad3ae441892a9d5bdb97ad29f",
            "placeholder": "​",
            "style": "IPY_MODEL_7b164c8d374e4b33a9d8f4f31ebb8e36",
            "value": " 1/1 [00:01&lt;00:00,  0.68it/s]"
          }
        },
        "517bd4323c4c4e03845a2c5cf74f2cf2": {
          "model_module": "@jupyter-widgets/base",
          "model_name": "LayoutModel",
          "model_module_version": "1.2.0",
          "state": {
            "_model_module": "@jupyter-widgets/base",
            "_model_module_version": "1.2.0",
            "_model_name": "LayoutModel",
            "_view_count": null,
            "_view_module": "@jupyter-widgets/base",
            "_view_module_version": "1.2.0",
            "_view_name": "LayoutView",
            "align_content": null,
            "align_items": null,
            "align_self": null,
            "border": null,
            "bottom": null,
            "display": "inline-flex",
            "flex": null,
            "flex_flow": "row wrap",
            "grid_area": null,
            "grid_auto_columns": null,
            "grid_auto_flow": null,
            "grid_auto_rows": null,
            "grid_column": null,
            "grid_gap": null,
            "grid_row": null,
            "grid_template_areas": null,
            "grid_template_columns": null,
            "grid_template_rows": null,
            "height": null,
            "justify_content": null,
            "justify_items": null,
            "left": null,
            "margin": null,
            "max_height": null,
            "max_width": null,
            "min_height": null,
            "min_width": null,
            "object_fit": null,
            "object_position": null,
            "order": null,
            "overflow": null,
            "overflow_x": null,
            "overflow_y": null,
            "padding": null,
            "right": null,
            "top": null,
            "visibility": "hidden",
            "width": "100%"
          }
        },
        "caf5f5da253b4cc798a3f39772d1ea46": {
          "model_module": "@jupyter-widgets/base",
          "model_name": "LayoutModel",
          "model_module_version": "1.2.0",
          "state": {
            "_model_module": "@jupyter-widgets/base",
            "_model_module_version": "1.2.0",
            "_model_name": "LayoutModel",
            "_view_count": null,
            "_view_module": "@jupyter-widgets/base",
            "_view_module_version": "1.2.0",
            "_view_name": "LayoutView",
            "align_content": null,
            "align_items": null,
            "align_self": null,
            "border": null,
            "bottom": null,
            "display": null,
            "flex": null,
            "flex_flow": null,
            "grid_area": null,
            "grid_auto_columns": null,
            "grid_auto_flow": null,
            "grid_auto_rows": null,
            "grid_column": null,
            "grid_gap": null,
            "grid_row": null,
            "grid_template_areas": null,
            "grid_template_columns": null,
            "grid_template_rows": null,
            "height": null,
            "justify_content": null,
            "justify_items": null,
            "left": null,
            "margin": null,
            "max_height": null,
            "max_width": null,
            "min_height": null,
            "min_width": null,
            "object_fit": null,
            "object_position": null,
            "order": null,
            "overflow": null,
            "overflow_x": null,
            "overflow_y": null,
            "padding": null,
            "right": null,
            "top": null,
            "visibility": null,
            "width": null
          }
        },
        "03f3a13abe0c470b82cbf32532987884": {
          "model_module": "@jupyter-widgets/controls",
          "model_name": "DescriptionStyleModel",
          "model_module_version": "1.5.0",
          "state": {
            "_model_module": "@jupyter-widgets/controls",
            "_model_module_version": "1.5.0",
            "_model_name": "DescriptionStyleModel",
            "_view_count": null,
            "_view_module": "@jupyter-widgets/base",
            "_view_module_version": "1.2.0",
            "_view_name": "StyleView",
            "description_width": ""
          }
        },
        "90273b1049ac4d8a95c56e631cc24193": {
          "model_module": "@jupyter-widgets/base",
          "model_name": "LayoutModel",
          "model_module_version": "1.2.0",
          "state": {
            "_model_module": "@jupyter-widgets/base",
            "_model_module_version": "1.2.0",
            "_model_name": "LayoutModel",
            "_view_count": null,
            "_view_module": "@jupyter-widgets/base",
            "_view_module_version": "1.2.0",
            "_view_name": "LayoutView",
            "align_content": null,
            "align_items": null,
            "align_self": null,
            "border": null,
            "bottom": null,
            "display": null,
            "flex": "2",
            "flex_flow": null,
            "grid_area": null,
            "grid_auto_columns": null,
            "grid_auto_flow": null,
            "grid_auto_rows": null,
            "grid_column": null,
            "grid_gap": null,
            "grid_row": null,
            "grid_template_areas": null,
            "grid_template_columns": null,
            "grid_template_rows": null,
            "height": null,
            "justify_content": null,
            "justify_items": null,
            "left": null,
            "margin": null,
            "max_height": null,
            "max_width": null,
            "min_height": null,
            "min_width": null,
            "object_fit": null,
            "object_position": null,
            "order": null,
            "overflow": null,
            "overflow_x": null,
            "overflow_y": null,
            "padding": null,
            "right": null,
            "top": null,
            "visibility": null,
            "width": null
          }
        },
        "1b6ccec6f9b044fd953160623a0d3653": {
          "model_module": "@jupyter-widgets/controls",
          "model_name": "ProgressStyleModel",
          "model_module_version": "1.5.0",
          "state": {
            "_model_module": "@jupyter-widgets/controls",
            "_model_module_version": "1.5.0",
            "_model_name": "ProgressStyleModel",
            "_view_count": null,
            "_view_module": "@jupyter-widgets/base",
            "_view_module_version": "1.2.0",
            "_view_name": "StyleView",
            "bar_color": null,
            "description_width": ""
          }
        },
        "bdcfd05ad3ae441892a9d5bdb97ad29f": {
          "model_module": "@jupyter-widgets/base",
          "model_name": "LayoutModel",
          "model_module_version": "1.2.0",
          "state": {
            "_model_module": "@jupyter-widgets/base",
            "_model_module_version": "1.2.0",
            "_model_name": "LayoutModel",
            "_view_count": null,
            "_view_module": "@jupyter-widgets/base",
            "_view_module_version": "1.2.0",
            "_view_name": "LayoutView",
            "align_content": null,
            "align_items": null,
            "align_self": null,
            "border": null,
            "bottom": null,
            "display": null,
            "flex": null,
            "flex_flow": null,
            "grid_area": null,
            "grid_auto_columns": null,
            "grid_auto_flow": null,
            "grid_auto_rows": null,
            "grid_column": null,
            "grid_gap": null,
            "grid_row": null,
            "grid_template_areas": null,
            "grid_template_columns": null,
            "grid_template_rows": null,
            "height": null,
            "justify_content": null,
            "justify_items": null,
            "left": null,
            "margin": null,
            "max_height": null,
            "max_width": null,
            "min_height": null,
            "min_width": null,
            "object_fit": null,
            "object_position": null,
            "order": null,
            "overflow": null,
            "overflow_x": null,
            "overflow_y": null,
            "padding": null,
            "right": null,
            "top": null,
            "visibility": null,
            "width": null
          }
        },
        "7b164c8d374e4b33a9d8f4f31ebb8e36": {
          "model_module": "@jupyter-widgets/controls",
          "model_name": "DescriptionStyleModel",
          "model_module_version": "1.5.0",
          "state": {
            "_model_module": "@jupyter-widgets/controls",
            "_model_module_version": "1.5.0",
            "_model_name": "DescriptionStyleModel",
            "_view_count": null,
            "_view_module": "@jupyter-widgets/base",
            "_view_module_version": "1.2.0",
            "_view_name": "StyleView",
            "description_width": ""
          }
        },
        "daf62d2a1c1a4ee196e1cd93a042f2b5": {
          "model_module": "@jupyter-widgets/controls",
          "model_name": "HBoxModel",
          "model_module_version": "1.5.0",
          "state": {
            "_dom_classes": [],
            "_model_module": "@jupyter-widgets/controls",
            "_model_module_version": "1.5.0",
            "_model_name": "HBoxModel",
            "_view_count": null,
            "_view_module": "@jupyter-widgets/controls",
            "_view_module_version": "1.5.0",
            "_view_name": "HBoxView",
            "box_style": "",
            "children": [
              "IPY_MODEL_c364898179d44b34bb764791f4ab5e91",
              "IPY_MODEL_4d4ac288e0984c37a95b80c1123fb0ff",
              "IPY_MODEL_771c909c08cd46129d663acac4aab0f6"
            ],
            "layout": "IPY_MODEL_1b6faca3c9e44c4782d9983cc84598d3"
          }
        },
        "c364898179d44b34bb764791f4ab5e91": {
          "model_module": "@jupyter-widgets/controls",
          "model_name": "HTMLModel",
          "model_module_version": "1.5.0",
          "state": {
            "_dom_classes": [],
            "_model_module": "@jupyter-widgets/controls",
            "_model_module_version": "1.5.0",
            "_model_name": "HTMLModel",
            "_view_count": null,
            "_view_module": "@jupyter-widgets/controls",
            "_view_module_version": "1.5.0",
            "_view_name": "HTMLView",
            "description": "",
            "description_tooltip": null,
            "layout": "IPY_MODEL_4275a5bb93f2405299a0a91ec09c5f50",
            "placeholder": "​",
            "style": "IPY_MODEL_eda6a1ddad824c7e985bdce69d5a7a1d",
            "value": "Epoch 2:  26%"
          }
        },
        "4d4ac288e0984c37a95b80c1123fb0ff": {
          "model_module": "@jupyter-widgets/controls",
          "model_name": "FloatProgressModel",
          "model_module_version": "1.5.0",
          "state": {
            "_dom_classes": [],
            "_model_module": "@jupyter-widgets/controls",
            "_model_module_version": "1.5.0",
            "_model_name": "FloatProgressModel",
            "_view_count": null,
            "_view_module": "@jupyter-widgets/controls",
            "_view_module_version": "1.5.0",
            "_view_name": "ProgressView",
            "bar_style": "",
            "description": "",
            "description_tooltip": null,
            "layout": "IPY_MODEL_bcf8735db78b4f51b1365f8c4840f384",
            "max": 313,
            "min": 0,
            "orientation": "horizontal",
            "style": "IPY_MODEL_f9c49f4ae3b54ccdb8c01bca738d2cd8",
            "value": 80
          }
        },
        "771c909c08cd46129d663acac4aab0f6": {
          "model_module": "@jupyter-widgets/controls",
          "model_name": "HTMLModel",
          "model_module_version": "1.5.0",
          "state": {
            "_dom_classes": [],
            "_model_module": "@jupyter-widgets/controls",
            "_model_module_version": "1.5.0",
            "_model_name": "HTMLModel",
            "_view_count": null,
            "_view_module": "@jupyter-widgets/controls",
            "_view_module_version": "1.5.0",
            "_view_name": "HTMLView",
            "description": "",
            "description_tooltip": null,
            "layout": "IPY_MODEL_2598d6a30417463dbde185f925f1f598",
            "placeholder": "​",
            "style": "IPY_MODEL_4bf268d34a6640f0a136798d0379648a",
            "value": " 80/313 [00:27&lt;01:19,  2.95it/s, v_num=0, train_loss_step=0.574, validation_loss_step=0.804, validation_loss_epoch=0.597, train_loss_epoch=0.630]"
          }
        },
        "1b6faca3c9e44c4782d9983cc84598d3": {
          "model_module": "@jupyter-widgets/base",
          "model_name": "LayoutModel",
          "model_module_version": "1.2.0",
          "state": {
            "_model_module": "@jupyter-widgets/base",
            "_model_module_version": "1.2.0",
            "_model_name": "LayoutModel",
            "_view_count": null,
            "_view_module": "@jupyter-widgets/base",
            "_view_module_version": "1.2.0",
            "_view_name": "LayoutView",
            "align_content": null,
            "align_items": null,
            "align_self": null,
            "border": null,
            "bottom": null,
            "display": "inline-flex",
            "flex": null,
            "flex_flow": "row wrap",
            "grid_area": null,
            "grid_auto_columns": null,
            "grid_auto_flow": null,
            "grid_auto_rows": null,
            "grid_column": null,
            "grid_gap": null,
            "grid_row": null,
            "grid_template_areas": null,
            "grid_template_columns": null,
            "grid_template_rows": null,
            "height": null,
            "justify_content": null,
            "justify_items": null,
            "left": null,
            "margin": null,
            "max_height": null,
            "max_width": null,
            "min_height": null,
            "min_width": null,
            "object_fit": null,
            "object_position": null,
            "order": null,
            "overflow": null,
            "overflow_x": null,
            "overflow_y": null,
            "padding": null,
            "right": null,
            "top": null,
            "visibility": null,
            "width": "100%"
          }
        },
        "4275a5bb93f2405299a0a91ec09c5f50": {
          "model_module": "@jupyter-widgets/base",
          "model_name": "LayoutModel",
          "model_module_version": "1.2.0",
          "state": {
            "_model_module": "@jupyter-widgets/base",
            "_model_module_version": "1.2.0",
            "_model_name": "LayoutModel",
            "_view_count": null,
            "_view_module": "@jupyter-widgets/base",
            "_view_module_version": "1.2.0",
            "_view_name": "LayoutView",
            "align_content": null,
            "align_items": null,
            "align_self": null,
            "border": null,
            "bottom": null,
            "display": null,
            "flex": null,
            "flex_flow": null,
            "grid_area": null,
            "grid_auto_columns": null,
            "grid_auto_flow": null,
            "grid_auto_rows": null,
            "grid_column": null,
            "grid_gap": null,
            "grid_row": null,
            "grid_template_areas": null,
            "grid_template_columns": null,
            "grid_template_rows": null,
            "height": null,
            "justify_content": null,
            "justify_items": null,
            "left": null,
            "margin": null,
            "max_height": null,
            "max_width": null,
            "min_height": null,
            "min_width": null,
            "object_fit": null,
            "object_position": null,
            "order": null,
            "overflow": null,
            "overflow_x": null,
            "overflow_y": null,
            "padding": null,
            "right": null,
            "top": null,
            "visibility": null,
            "width": null
          }
        },
        "eda6a1ddad824c7e985bdce69d5a7a1d": {
          "model_module": "@jupyter-widgets/controls",
          "model_name": "DescriptionStyleModel",
          "model_module_version": "1.5.0",
          "state": {
            "_model_module": "@jupyter-widgets/controls",
            "_model_module_version": "1.5.0",
            "_model_name": "DescriptionStyleModel",
            "_view_count": null,
            "_view_module": "@jupyter-widgets/base",
            "_view_module_version": "1.2.0",
            "_view_name": "StyleView",
            "description_width": ""
          }
        },
        "bcf8735db78b4f51b1365f8c4840f384": {
          "model_module": "@jupyter-widgets/base",
          "model_name": "LayoutModel",
          "model_module_version": "1.2.0",
          "state": {
            "_model_module": "@jupyter-widgets/base",
            "_model_module_version": "1.2.0",
            "_model_name": "LayoutModel",
            "_view_count": null,
            "_view_module": "@jupyter-widgets/base",
            "_view_module_version": "1.2.0",
            "_view_name": "LayoutView",
            "align_content": null,
            "align_items": null,
            "align_self": null,
            "border": null,
            "bottom": null,
            "display": null,
            "flex": "2",
            "flex_flow": null,
            "grid_area": null,
            "grid_auto_columns": null,
            "grid_auto_flow": null,
            "grid_auto_rows": null,
            "grid_column": null,
            "grid_gap": null,
            "grid_row": null,
            "grid_template_areas": null,
            "grid_template_columns": null,
            "grid_template_rows": null,
            "height": null,
            "justify_content": null,
            "justify_items": null,
            "left": null,
            "margin": null,
            "max_height": null,
            "max_width": null,
            "min_height": null,
            "min_width": null,
            "object_fit": null,
            "object_position": null,
            "order": null,
            "overflow": null,
            "overflow_x": null,
            "overflow_y": null,
            "padding": null,
            "right": null,
            "top": null,
            "visibility": null,
            "width": null
          }
        },
        "f9c49f4ae3b54ccdb8c01bca738d2cd8": {
          "model_module": "@jupyter-widgets/controls",
          "model_name": "ProgressStyleModel",
          "model_module_version": "1.5.0",
          "state": {
            "_model_module": "@jupyter-widgets/controls",
            "_model_module_version": "1.5.0",
            "_model_name": "ProgressStyleModel",
            "_view_count": null,
            "_view_module": "@jupyter-widgets/base",
            "_view_module_version": "1.2.0",
            "_view_name": "StyleView",
            "bar_color": null,
            "description_width": ""
          }
        },
        "2598d6a30417463dbde185f925f1f598": {
          "model_module": "@jupyter-widgets/base",
          "model_name": "LayoutModel",
          "model_module_version": "1.2.0",
          "state": {
            "_model_module": "@jupyter-widgets/base",
            "_model_module_version": "1.2.0",
            "_model_name": "LayoutModel",
            "_view_count": null,
            "_view_module": "@jupyter-widgets/base",
            "_view_module_version": "1.2.0",
            "_view_name": "LayoutView",
            "align_content": null,
            "align_items": null,
            "align_self": null,
            "border": null,
            "bottom": null,
            "display": null,
            "flex": null,
            "flex_flow": null,
            "grid_area": null,
            "grid_auto_columns": null,
            "grid_auto_flow": null,
            "grid_auto_rows": null,
            "grid_column": null,
            "grid_gap": null,
            "grid_row": null,
            "grid_template_areas": null,
            "grid_template_columns": null,
            "grid_template_rows": null,
            "height": null,
            "justify_content": null,
            "justify_items": null,
            "left": null,
            "margin": null,
            "max_height": null,
            "max_width": null,
            "min_height": null,
            "min_width": null,
            "object_fit": null,
            "object_position": null,
            "order": null,
            "overflow": null,
            "overflow_x": null,
            "overflow_y": null,
            "padding": null,
            "right": null,
            "top": null,
            "visibility": null,
            "width": null
          }
        },
        "4bf268d34a6640f0a136798d0379648a": {
          "model_module": "@jupyter-widgets/controls",
          "model_name": "DescriptionStyleModel",
          "model_module_version": "1.5.0",
          "state": {
            "_model_module": "@jupyter-widgets/controls",
            "_model_module_version": "1.5.0",
            "_model_name": "DescriptionStyleModel",
            "_view_count": null,
            "_view_module": "@jupyter-widgets/base",
            "_view_module_version": "1.2.0",
            "_view_name": "StyleView",
            "description_width": ""
          }
        },
        "35cfb9e3464e4e0db6e3ede9d530c7f6": {
          "model_module": "@jupyter-widgets/controls",
          "model_name": "HBoxModel",
          "model_module_version": "1.5.0",
          "state": {
            "_dom_classes": [],
            "_model_module": "@jupyter-widgets/controls",
            "_model_module_version": "1.5.0",
            "_model_name": "HBoxModel",
            "_view_count": null,
            "_view_module": "@jupyter-widgets/controls",
            "_view_module_version": "1.5.0",
            "_view_name": "HBoxView",
            "box_style": "",
            "children": [
              "IPY_MODEL_8d35a295f3ce4e208bde33705b9d7a46",
              "IPY_MODEL_7461f62abcde4c9dbd869fd8f45e9d28",
              "IPY_MODEL_e4e1ccb669bf4fb79199c40e18a72af7"
            ],
            "layout": "IPY_MODEL_cedb58661c9348c3b4750a46c5e1fd12"
          }
        },
        "8d35a295f3ce4e208bde33705b9d7a46": {
          "model_module": "@jupyter-widgets/controls",
          "model_name": "HTMLModel",
          "model_module_version": "1.5.0",
          "state": {
            "_dom_classes": [],
            "_model_module": "@jupyter-widgets/controls",
            "_model_module_version": "1.5.0",
            "_model_name": "HTMLModel",
            "_view_count": null,
            "_view_module": "@jupyter-widgets/controls",
            "_view_module_version": "1.5.0",
            "_view_name": "HTMLView",
            "description": "",
            "description_tooltip": null,
            "layout": "IPY_MODEL_3d10e9178eed4b8db22bc301e55e165d",
            "placeholder": "​",
            "style": "IPY_MODEL_862b9af2e6da4c0e8708b967beed7b60",
            "value": "Validation DataLoader 0: 100%"
          }
        },
        "7461f62abcde4c9dbd869fd8f45e9d28": {
          "model_module": "@jupyter-widgets/controls",
          "model_name": "FloatProgressModel",
          "model_module_version": "1.5.0",
          "state": {
            "_dom_classes": [],
            "_model_module": "@jupyter-widgets/controls",
            "_model_module_version": "1.5.0",
            "_model_name": "FloatProgressModel",
            "_view_count": null,
            "_view_module": "@jupyter-widgets/controls",
            "_view_module_version": "1.5.0",
            "_view_name": "ProgressView",
            "bar_style": "",
            "description": "",
            "description_tooltip": null,
            "layout": "IPY_MODEL_44ce26ae59b74a4caa6b9c404325af07",
            "max": 79,
            "min": 0,
            "orientation": "horizontal",
            "style": "IPY_MODEL_76a51fc6720a4bf7b6c02965138e62d1",
            "value": 79
          }
        },
        "e4e1ccb669bf4fb79199c40e18a72af7": {
          "model_module": "@jupyter-widgets/controls",
          "model_name": "HTMLModel",
          "model_module_version": "1.5.0",
          "state": {
            "_dom_classes": [],
            "_model_module": "@jupyter-widgets/controls",
            "_model_module_version": "1.5.0",
            "_model_name": "HTMLModel",
            "_view_count": null,
            "_view_module": "@jupyter-widgets/controls",
            "_view_module_version": "1.5.0",
            "_view_name": "HTMLView",
            "description": "",
            "description_tooltip": null,
            "layout": "IPY_MODEL_93304495cc524780a006da6b3b3764d0",
            "placeholder": "​",
            "style": "IPY_MODEL_b2ecb4ed5ed244b3b7a1a8915040309d",
            "value": " 79/79 [00:20&lt;00:00,  3.77it/s]"
          }
        },
        "cedb58661c9348c3b4750a46c5e1fd12": {
          "model_module": "@jupyter-widgets/base",
          "model_name": "LayoutModel",
          "model_module_version": "1.2.0",
          "state": {
            "_model_module": "@jupyter-widgets/base",
            "_model_module_version": "1.2.0",
            "_model_name": "LayoutModel",
            "_view_count": null,
            "_view_module": "@jupyter-widgets/base",
            "_view_module_version": "1.2.0",
            "_view_name": "LayoutView",
            "align_content": null,
            "align_items": null,
            "align_self": null,
            "border": null,
            "bottom": null,
            "display": "inline-flex",
            "flex": null,
            "flex_flow": "row wrap",
            "grid_area": null,
            "grid_auto_columns": null,
            "grid_auto_flow": null,
            "grid_auto_rows": null,
            "grid_column": null,
            "grid_gap": null,
            "grid_row": null,
            "grid_template_areas": null,
            "grid_template_columns": null,
            "grid_template_rows": null,
            "height": null,
            "justify_content": null,
            "justify_items": null,
            "left": null,
            "margin": null,
            "max_height": null,
            "max_width": null,
            "min_height": null,
            "min_width": null,
            "object_fit": null,
            "object_position": null,
            "order": null,
            "overflow": null,
            "overflow_x": null,
            "overflow_y": null,
            "padding": null,
            "right": null,
            "top": null,
            "visibility": "hidden",
            "width": "100%"
          }
        },
        "3d10e9178eed4b8db22bc301e55e165d": {
          "model_module": "@jupyter-widgets/base",
          "model_name": "LayoutModel",
          "model_module_version": "1.2.0",
          "state": {
            "_model_module": "@jupyter-widgets/base",
            "_model_module_version": "1.2.0",
            "_model_name": "LayoutModel",
            "_view_count": null,
            "_view_module": "@jupyter-widgets/base",
            "_view_module_version": "1.2.0",
            "_view_name": "LayoutView",
            "align_content": null,
            "align_items": null,
            "align_self": null,
            "border": null,
            "bottom": null,
            "display": null,
            "flex": null,
            "flex_flow": null,
            "grid_area": null,
            "grid_auto_columns": null,
            "grid_auto_flow": null,
            "grid_auto_rows": null,
            "grid_column": null,
            "grid_gap": null,
            "grid_row": null,
            "grid_template_areas": null,
            "grid_template_columns": null,
            "grid_template_rows": null,
            "height": null,
            "justify_content": null,
            "justify_items": null,
            "left": null,
            "margin": null,
            "max_height": null,
            "max_width": null,
            "min_height": null,
            "min_width": null,
            "object_fit": null,
            "object_position": null,
            "order": null,
            "overflow": null,
            "overflow_x": null,
            "overflow_y": null,
            "padding": null,
            "right": null,
            "top": null,
            "visibility": null,
            "width": null
          }
        },
        "862b9af2e6da4c0e8708b967beed7b60": {
          "model_module": "@jupyter-widgets/controls",
          "model_name": "DescriptionStyleModel",
          "model_module_version": "1.5.0",
          "state": {
            "_model_module": "@jupyter-widgets/controls",
            "_model_module_version": "1.5.0",
            "_model_name": "DescriptionStyleModel",
            "_view_count": null,
            "_view_module": "@jupyter-widgets/base",
            "_view_module_version": "1.2.0",
            "_view_name": "StyleView",
            "description_width": ""
          }
        },
        "44ce26ae59b74a4caa6b9c404325af07": {
          "model_module": "@jupyter-widgets/base",
          "model_name": "LayoutModel",
          "model_module_version": "1.2.0",
          "state": {
            "_model_module": "@jupyter-widgets/base",
            "_model_module_version": "1.2.0",
            "_model_name": "LayoutModel",
            "_view_count": null,
            "_view_module": "@jupyter-widgets/base",
            "_view_module_version": "1.2.0",
            "_view_name": "LayoutView",
            "align_content": null,
            "align_items": null,
            "align_self": null,
            "border": null,
            "bottom": null,
            "display": null,
            "flex": "2",
            "flex_flow": null,
            "grid_area": null,
            "grid_auto_columns": null,
            "grid_auto_flow": null,
            "grid_auto_rows": null,
            "grid_column": null,
            "grid_gap": null,
            "grid_row": null,
            "grid_template_areas": null,
            "grid_template_columns": null,
            "grid_template_rows": null,
            "height": null,
            "justify_content": null,
            "justify_items": null,
            "left": null,
            "margin": null,
            "max_height": null,
            "max_width": null,
            "min_height": null,
            "min_width": null,
            "object_fit": null,
            "object_position": null,
            "order": null,
            "overflow": null,
            "overflow_x": null,
            "overflow_y": null,
            "padding": null,
            "right": null,
            "top": null,
            "visibility": null,
            "width": null
          }
        },
        "76a51fc6720a4bf7b6c02965138e62d1": {
          "model_module": "@jupyter-widgets/controls",
          "model_name": "ProgressStyleModel",
          "model_module_version": "1.5.0",
          "state": {
            "_model_module": "@jupyter-widgets/controls",
            "_model_module_version": "1.5.0",
            "_model_name": "ProgressStyleModel",
            "_view_count": null,
            "_view_module": "@jupyter-widgets/base",
            "_view_module_version": "1.2.0",
            "_view_name": "StyleView",
            "bar_color": null,
            "description_width": ""
          }
        },
        "93304495cc524780a006da6b3b3764d0": {
          "model_module": "@jupyter-widgets/base",
          "model_name": "LayoutModel",
          "model_module_version": "1.2.0",
          "state": {
            "_model_module": "@jupyter-widgets/base",
            "_model_module_version": "1.2.0",
            "_model_name": "LayoutModel",
            "_view_count": null,
            "_view_module": "@jupyter-widgets/base",
            "_view_module_version": "1.2.0",
            "_view_name": "LayoutView",
            "align_content": null,
            "align_items": null,
            "align_self": null,
            "border": null,
            "bottom": null,
            "display": null,
            "flex": null,
            "flex_flow": null,
            "grid_area": null,
            "grid_auto_columns": null,
            "grid_auto_flow": null,
            "grid_auto_rows": null,
            "grid_column": null,
            "grid_gap": null,
            "grid_row": null,
            "grid_template_areas": null,
            "grid_template_columns": null,
            "grid_template_rows": null,
            "height": null,
            "justify_content": null,
            "justify_items": null,
            "left": null,
            "margin": null,
            "max_height": null,
            "max_width": null,
            "min_height": null,
            "min_width": null,
            "object_fit": null,
            "object_position": null,
            "order": null,
            "overflow": null,
            "overflow_x": null,
            "overflow_y": null,
            "padding": null,
            "right": null,
            "top": null,
            "visibility": null,
            "width": null
          }
        },
        "b2ecb4ed5ed244b3b7a1a8915040309d": {
          "model_module": "@jupyter-widgets/controls",
          "model_name": "DescriptionStyleModel",
          "model_module_version": "1.5.0",
          "state": {
            "_model_module": "@jupyter-widgets/controls",
            "_model_module_version": "1.5.0",
            "_model_name": "DescriptionStyleModel",
            "_view_count": null,
            "_view_module": "@jupyter-widgets/base",
            "_view_module_version": "1.2.0",
            "_view_name": "StyleView",
            "description_width": ""
          }
        },
        "4be50da29f3c42cebc61d8d8a34cc52a": {
          "model_module": "@jupyter-widgets/controls",
          "model_name": "HBoxModel",
          "model_module_version": "1.5.0",
          "state": {
            "_dom_classes": [],
            "_model_module": "@jupyter-widgets/controls",
            "_model_module_version": "1.5.0",
            "_model_name": "HBoxModel",
            "_view_count": null,
            "_view_module": "@jupyter-widgets/controls",
            "_view_module_version": "1.5.0",
            "_view_name": "HBoxView",
            "box_style": "",
            "children": [
              "IPY_MODEL_f946b9de1c5544d89dba5e47098c44bf",
              "IPY_MODEL_15e351d150204d2282614789070c6c85",
              "IPY_MODEL_20fa47defb0d49ceb344828b39ffa0dc"
            ],
            "layout": "IPY_MODEL_739c4d6d91754289b6add6697d28cc37"
          }
        },
        "f946b9de1c5544d89dba5e47098c44bf": {
          "model_module": "@jupyter-widgets/controls",
          "model_name": "HTMLModel",
          "model_module_version": "1.5.0",
          "state": {
            "_dom_classes": [],
            "_model_module": "@jupyter-widgets/controls",
            "_model_module_version": "1.5.0",
            "_model_name": "HTMLModel",
            "_view_count": null,
            "_view_module": "@jupyter-widgets/controls",
            "_view_module_version": "1.5.0",
            "_view_name": "HTMLView",
            "description": "",
            "description_tooltip": null,
            "layout": "IPY_MODEL_f7a1b7feb03840b6a20bde32c605608a",
            "placeholder": "​",
            "style": "IPY_MODEL_0d82f1b8faec41949508a45192e54e3d",
            "value": "Validation DataLoader 0: 100%"
          }
        },
        "15e351d150204d2282614789070c6c85": {
          "model_module": "@jupyter-widgets/controls",
          "model_name": "FloatProgressModel",
          "model_module_version": "1.5.0",
          "state": {
            "_dom_classes": [],
            "_model_module": "@jupyter-widgets/controls",
            "_model_module_version": "1.5.0",
            "_model_name": "FloatProgressModel",
            "_view_count": null,
            "_view_module": "@jupyter-widgets/controls",
            "_view_module_version": "1.5.0",
            "_view_name": "ProgressView",
            "bar_style": "",
            "description": "",
            "description_tooltip": null,
            "layout": "IPY_MODEL_3e2d9fbddd02483c84a9bf86de3b3429",
            "max": 79,
            "min": 0,
            "orientation": "horizontal",
            "style": "IPY_MODEL_bede85c26b984922a4204bfff4dd3830",
            "value": 79
          }
        },
        "20fa47defb0d49ceb344828b39ffa0dc": {
          "model_module": "@jupyter-widgets/controls",
          "model_name": "HTMLModel",
          "model_module_version": "1.5.0",
          "state": {
            "_dom_classes": [],
            "_model_module": "@jupyter-widgets/controls",
            "_model_module_version": "1.5.0",
            "_model_name": "HTMLModel",
            "_view_count": null,
            "_view_module": "@jupyter-widgets/controls",
            "_view_module_version": "1.5.0",
            "_view_name": "HTMLView",
            "description": "",
            "description_tooltip": null,
            "layout": "IPY_MODEL_ad5d73a277bb485195daa3a6544213b6",
            "placeholder": "​",
            "style": "IPY_MODEL_6901cc44bf684cbb9b65f25d6e8fee63",
            "value": " 79/79 [00:21&lt;00:00,  3.73it/s]"
          }
        },
        "739c4d6d91754289b6add6697d28cc37": {
          "model_module": "@jupyter-widgets/base",
          "model_name": "LayoutModel",
          "model_module_version": "1.2.0",
          "state": {
            "_model_module": "@jupyter-widgets/base",
            "_model_module_version": "1.2.0",
            "_model_name": "LayoutModel",
            "_view_count": null,
            "_view_module": "@jupyter-widgets/base",
            "_view_module_version": "1.2.0",
            "_view_name": "LayoutView",
            "align_content": null,
            "align_items": null,
            "align_self": null,
            "border": null,
            "bottom": null,
            "display": "inline-flex",
            "flex": null,
            "flex_flow": "row wrap",
            "grid_area": null,
            "grid_auto_columns": null,
            "grid_auto_flow": null,
            "grid_auto_rows": null,
            "grid_column": null,
            "grid_gap": null,
            "grid_row": null,
            "grid_template_areas": null,
            "grid_template_columns": null,
            "grid_template_rows": null,
            "height": null,
            "justify_content": null,
            "justify_items": null,
            "left": null,
            "margin": null,
            "max_height": null,
            "max_width": null,
            "min_height": null,
            "min_width": null,
            "object_fit": null,
            "object_position": null,
            "order": null,
            "overflow": null,
            "overflow_x": null,
            "overflow_y": null,
            "padding": null,
            "right": null,
            "top": null,
            "visibility": "hidden",
            "width": "100%"
          }
        },
        "f7a1b7feb03840b6a20bde32c605608a": {
          "model_module": "@jupyter-widgets/base",
          "model_name": "LayoutModel",
          "model_module_version": "1.2.0",
          "state": {
            "_model_module": "@jupyter-widgets/base",
            "_model_module_version": "1.2.0",
            "_model_name": "LayoutModel",
            "_view_count": null,
            "_view_module": "@jupyter-widgets/base",
            "_view_module_version": "1.2.0",
            "_view_name": "LayoutView",
            "align_content": null,
            "align_items": null,
            "align_self": null,
            "border": null,
            "bottom": null,
            "display": null,
            "flex": null,
            "flex_flow": null,
            "grid_area": null,
            "grid_auto_columns": null,
            "grid_auto_flow": null,
            "grid_auto_rows": null,
            "grid_column": null,
            "grid_gap": null,
            "grid_row": null,
            "grid_template_areas": null,
            "grid_template_columns": null,
            "grid_template_rows": null,
            "height": null,
            "justify_content": null,
            "justify_items": null,
            "left": null,
            "margin": null,
            "max_height": null,
            "max_width": null,
            "min_height": null,
            "min_width": null,
            "object_fit": null,
            "object_position": null,
            "order": null,
            "overflow": null,
            "overflow_x": null,
            "overflow_y": null,
            "padding": null,
            "right": null,
            "top": null,
            "visibility": null,
            "width": null
          }
        },
        "0d82f1b8faec41949508a45192e54e3d": {
          "model_module": "@jupyter-widgets/controls",
          "model_name": "DescriptionStyleModel",
          "model_module_version": "1.5.0",
          "state": {
            "_model_module": "@jupyter-widgets/controls",
            "_model_module_version": "1.5.0",
            "_model_name": "DescriptionStyleModel",
            "_view_count": null,
            "_view_module": "@jupyter-widgets/base",
            "_view_module_version": "1.2.0",
            "_view_name": "StyleView",
            "description_width": ""
          }
        },
        "3e2d9fbddd02483c84a9bf86de3b3429": {
          "model_module": "@jupyter-widgets/base",
          "model_name": "LayoutModel",
          "model_module_version": "1.2.0",
          "state": {
            "_model_module": "@jupyter-widgets/base",
            "_model_module_version": "1.2.0",
            "_model_name": "LayoutModel",
            "_view_count": null,
            "_view_module": "@jupyter-widgets/base",
            "_view_module_version": "1.2.0",
            "_view_name": "LayoutView",
            "align_content": null,
            "align_items": null,
            "align_self": null,
            "border": null,
            "bottom": null,
            "display": null,
            "flex": "2",
            "flex_flow": null,
            "grid_area": null,
            "grid_auto_columns": null,
            "grid_auto_flow": null,
            "grid_auto_rows": null,
            "grid_column": null,
            "grid_gap": null,
            "grid_row": null,
            "grid_template_areas": null,
            "grid_template_columns": null,
            "grid_template_rows": null,
            "height": null,
            "justify_content": null,
            "justify_items": null,
            "left": null,
            "margin": null,
            "max_height": null,
            "max_width": null,
            "min_height": null,
            "min_width": null,
            "object_fit": null,
            "object_position": null,
            "order": null,
            "overflow": null,
            "overflow_x": null,
            "overflow_y": null,
            "padding": null,
            "right": null,
            "top": null,
            "visibility": null,
            "width": null
          }
        },
        "bede85c26b984922a4204bfff4dd3830": {
          "model_module": "@jupyter-widgets/controls",
          "model_name": "ProgressStyleModel",
          "model_module_version": "1.5.0",
          "state": {
            "_model_module": "@jupyter-widgets/controls",
            "_model_module_version": "1.5.0",
            "_model_name": "ProgressStyleModel",
            "_view_count": null,
            "_view_module": "@jupyter-widgets/base",
            "_view_module_version": "1.2.0",
            "_view_name": "StyleView",
            "bar_color": null,
            "description_width": ""
          }
        },
        "ad5d73a277bb485195daa3a6544213b6": {
          "model_module": "@jupyter-widgets/base",
          "model_name": "LayoutModel",
          "model_module_version": "1.2.0",
          "state": {
            "_model_module": "@jupyter-widgets/base",
            "_model_module_version": "1.2.0",
            "_model_name": "LayoutModel",
            "_view_count": null,
            "_view_module": "@jupyter-widgets/base",
            "_view_module_version": "1.2.0",
            "_view_name": "LayoutView",
            "align_content": null,
            "align_items": null,
            "align_self": null,
            "border": null,
            "bottom": null,
            "display": null,
            "flex": null,
            "flex_flow": null,
            "grid_area": null,
            "grid_auto_columns": null,
            "grid_auto_flow": null,
            "grid_auto_rows": null,
            "grid_column": null,
            "grid_gap": null,
            "grid_row": null,
            "grid_template_areas": null,
            "grid_template_columns": null,
            "grid_template_rows": null,
            "height": null,
            "justify_content": null,
            "justify_items": null,
            "left": null,
            "margin": null,
            "max_height": null,
            "max_width": null,
            "min_height": null,
            "min_width": null,
            "object_fit": null,
            "object_position": null,
            "order": null,
            "overflow": null,
            "overflow_x": null,
            "overflow_y": null,
            "padding": null,
            "right": null,
            "top": null,
            "visibility": null,
            "width": null
          }
        },
        "6901cc44bf684cbb9b65f25d6e8fee63": {
          "model_module": "@jupyter-widgets/controls",
          "model_name": "DescriptionStyleModel",
          "model_module_version": "1.5.0",
          "state": {
            "_model_module": "@jupyter-widgets/controls",
            "_model_module_version": "1.5.0",
            "_model_name": "DescriptionStyleModel",
            "_view_count": null,
            "_view_module": "@jupyter-widgets/base",
            "_view_module_version": "1.2.0",
            "_view_name": "StyleView",
            "description_width": ""
          }
        }
      }
    }
  },
  "nbformat": 4,
  "nbformat_minor": 5
}