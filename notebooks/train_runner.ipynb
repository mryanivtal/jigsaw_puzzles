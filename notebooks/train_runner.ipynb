{
  "cells": [
    {
      "cell_type": "markdown",
      "metadata": {
        "id": "-ZtVyMVwCHk7"
      },
      "source": [
        "# Classification of Jigsaw Puzzles -  Cats Vs. Dogs"
      ],
      "id": "-ZtVyMVwCHk7"
    },
    {
      "cell_type": "markdown",
      "metadata": {
        "id": "n7KdyD3R_rLU"
      },
      "source": [
        "## Colab Environment setup"
      ],
      "id": "n7KdyD3R_rLU"
    },
    {
      "cell_type": "markdown",
      "metadata": {
        "id": "eab64bd9-b826-4c39-9f01-d2822c1e60e2"
      },
      "source": [
        "### Installations and mounts"
      ],
      "id": "eab64bd9-b826-4c39-9f01-d2822c1e60e2"
    },
    {
      "cell_type": "code",
      "execution_count": 1,
      "metadata": {
        "colab": {
          "base_uri": "https://localhost:8080/"
        },
        "id": "dF7i2bFMtryN",
        "outputId": "77de1e57-6ba7-4735-fbeb-6658d42b4e44"
      },
      "outputs": [
        {
          "output_type": "stream",
          "name": "stdout",
          "text": [
            "Collecting lightning\n",
            "  Downloading lightning-2.1.3-py3-none-any.whl (2.0 MB)\n",
            "\u001b[2K     \u001b[90m━━━━━━━━━━━━━━━━━━━━━━━━━━━━━━━━━━━━━━━━\u001b[0m \u001b[32m2.0/2.0 MB\u001b[0m \u001b[31m9.0 MB/s\u001b[0m eta \u001b[36m0:00:00\u001b[0m\n",
            "\u001b[?25hRequirement already satisfied: PyYAML<8.0,>=5.4 in /usr/local/lib/python3.10/dist-packages (from lightning) (6.0.1)\n",
            "Requirement already satisfied: fsspec[http]<2025.0,>=2022.5.0 in /usr/local/lib/python3.10/dist-packages (from lightning) (2023.6.0)\n",
            "Collecting lightning-utilities<2.0,>=0.8.0 (from lightning)\n",
            "  Downloading lightning_utilities-0.10.0-py3-none-any.whl (24 kB)\n",
            "Requirement already satisfied: numpy<3.0,>=1.17.2 in /usr/local/lib/python3.10/dist-packages (from lightning) (1.23.5)\n",
            "Requirement already satisfied: packaging<25.0,>=20.0 in /usr/local/lib/python3.10/dist-packages (from lightning) (23.2)\n",
            "Requirement already satisfied: torch<4.0,>=1.12.0 in /usr/local/lib/python3.10/dist-packages (from lightning) (2.1.0+cu121)\n",
            "Collecting torchmetrics<3.0,>=0.7.0 (from lightning)\n",
            "  Downloading torchmetrics-1.3.0-py3-none-any.whl (840 kB)\n",
            "\u001b[2K     \u001b[90m━━━━━━━━━━━━━━━━━━━━━━━━━━━━━━━━━━━━━━━━\u001b[0m \u001b[32m840.2/840.2 kB\u001b[0m \u001b[31m17.2 MB/s\u001b[0m eta \u001b[36m0:00:00\u001b[0m\n",
            "\u001b[?25hRequirement already satisfied: tqdm<6.0,>=4.57.0 in /usr/local/lib/python3.10/dist-packages (from lightning) (4.66.1)\n",
            "Requirement already satisfied: typing-extensions<6.0,>=4.0.0 in /usr/local/lib/python3.10/dist-packages (from lightning) (4.5.0)\n",
            "Collecting pytorch-lightning (from lightning)\n",
            "  Downloading pytorch_lightning-2.1.3-py3-none-any.whl (777 kB)\n",
            "\u001b[2K     \u001b[90m━━━━━━━━━━━━━━━━━━━━━━━━━━━━━━━━━━━━━━━━\u001b[0m \u001b[32m777.7/777.7 kB\u001b[0m \u001b[31m21.5 MB/s\u001b[0m eta \u001b[36m0:00:00\u001b[0m\n",
            "\u001b[?25hRequirement already satisfied: requests in /usr/local/lib/python3.10/dist-packages (from fsspec[http]<2025.0,>=2022.5.0->lightning) (2.31.0)\n",
            "Requirement already satisfied: aiohttp!=4.0.0a0,!=4.0.0a1 in /usr/local/lib/python3.10/dist-packages (from fsspec[http]<2025.0,>=2022.5.0->lightning) (3.9.1)\n",
            "Requirement already satisfied: setuptools in /usr/local/lib/python3.10/dist-packages (from lightning-utilities<2.0,>=0.8.0->lightning) (67.7.2)\n",
            "Requirement already satisfied: filelock in /usr/local/lib/python3.10/dist-packages (from torch<4.0,>=1.12.0->lightning) (3.13.1)\n",
            "Requirement already satisfied: sympy in /usr/local/lib/python3.10/dist-packages (from torch<4.0,>=1.12.0->lightning) (1.12)\n",
            "Requirement already satisfied: networkx in /usr/local/lib/python3.10/dist-packages (from torch<4.0,>=1.12.0->lightning) (3.2.1)\n",
            "Requirement already satisfied: jinja2 in /usr/local/lib/python3.10/dist-packages (from torch<4.0,>=1.12.0->lightning) (3.1.3)\n",
            "Requirement already satisfied: triton==2.1.0 in /usr/local/lib/python3.10/dist-packages (from torch<4.0,>=1.12.0->lightning) (2.1.0)\n",
            "Requirement already satisfied: attrs>=17.3.0 in /usr/local/lib/python3.10/dist-packages (from aiohttp!=4.0.0a0,!=4.0.0a1->fsspec[http]<2025.0,>=2022.5.0->lightning) (23.2.0)\n",
            "Requirement already satisfied: multidict<7.0,>=4.5 in /usr/local/lib/python3.10/dist-packages (from aiohttp!=4.0.0a0,!=4.0.0a1->fsspec[http]<2025.0,>=2022.5.0->lightning) (6.0.4)\n",
            "Requirement already satisfied: yarl<2.0,>=1.0 in /usr/local/lib/python3.10/dist-packages (from aiohttp!=4.0.0a0,!=4.0.0a1->fsspec[http]<2025.0,>=2022.5.0->lightning) (1.9.4)\n",
            "Requirement already satisfied: frozenlist>=1.1.1 in /usr/local/lib/python3.10/dist-packages (from aiohttp!=4.0.0a0,!=4.0.0a1->fsspec[http]<2025.0,>=2022.5.0->lightning) (1.4.1)\n",
            "Requirement already satisfied: aiosignal>=1.1.2 in /usr/local/lib/python3.10/dist-packages (from aiohttp!=4.0.0a0,!=4.0.0a1->fsspec[http]<2025.0,>=2022.5.0->lightning) (1.3.1)\n",
            "Requirement already satisfied: async-timeout<5.0,>=4.0 in /usr/local/lib/python3.10/dist-packages (from aiohttp!=4.0.0a0,!=4.0.0a1->fsspec[http]<2025.0,>=2022.5.0->lightning) (4.0.3)\n",
            "Requirement already satisfied: MarkupSafe>=2.0 in /usr/local/lib/python3.10/dist-packages (from jinja2->torch<4.0,>=1.12.0->lightning) (2.1.3)\n",
            "Requirement already satisfied: charset-normalizer<4,>=2 in /usr/local/lib/python3.10/dist-packages (from requests->fsspec[http]<2025.0,>=2022.5.0->lightning) (3.3.2)\n",
            "Requirement already satisfied: idna<4,>=2.5 in /usr/local/lib/python3.10/dist-packages (from requests->fsspec[http]<2025.0,>=2022.5.0->lightning) (3.6)\n",
            "Requirement already satisfied: urllib3<3,>=1.21.1 in /usr/local/lib/python3.10/dist-packages (from requests->fsspec[http]<2025.0,>=2022.5.0->lightning) (2.0.7)\n",
            "Requirement already satisfied: certifi>=2017.4.17 in /usr/local/lib/python3.10/dist-packages (from requests->fsspec[http]<2025.0,>=2022.5.0->lightning) (2023.11.17)\n",
            "Requirement already satisfied: mpmath>=0.19 in /usr/local/lib/python3.10/dist-packages (from sympy->torch<4.0,>=1.12.0->lightning) (1.3.0)\n",
            "Installing collected packages: lightning-utilities, torchmetrics, pytorch-lightning, lightning\n",
            "Successfully installed lightning-2.1.3 lightning-utilities-0.10.0 pytorch-lightning-2.1.3 torchmetrics-1.3.0\n"
          ]
        }
      ],
      "source": [
        "!pip install lightning"
      ],
      "id": "dF7i2bFMtryN"
    },
    {
      "cell_type": "code",
      "execution_count": 2,
      "metadata": {
        "id": "e5da3920-59f9-4c9d-8207-a10a9b806861"
      },
      "outputs": [],
      "source": [
        "from pathlib import Path\n",
        "# --- Run setting - colab or local\n",
        "ENVIRONMENT = 'Colab'\n",
        "\n",
        "# --- Paths\n",
        "DRIVE_PROJECT_PATH = Path('/content/drive/MyDrive/mlds_final_project/project')\n",
        "LOCAL_PROJECT_PATH = Path.cwd().parent"
      ],
      "id": "e5da3920-59f9-4c9d-8207-a10a9b806861"
    },
    {
      "cell_type": "code",
      "execution_count": 3,
      "metadata": {
        "colab": {
          "base_uri": "https://localhost:8080/"
        },
        "id": "qY2nPQSu49_H",
        "outputId": "a4f8c7fd-1f8f-401a-c1b0-c85e7e4013f0"
      },
      "outputs": [
        {
          "output_type": "stream",
          "name": "stdout",
          "text": [
            "Mounted at /content/drive\n"
          ]
        }
      ],
      "source": [
        "# --- Mount google drive\n",
        "if ENVIRONMENT == 'Colab':\n",
        "    from google.colab import drive\n",
        "    drive.mount('/content/drive')\n",
        "    PROJECT_PATH = DRIVE_PROJECT_PATH\n",
        "\n",
        "else:\n",
        "    raise ValueError(f'ENVIRONMENT - Only Colab runs are supported here!')"
      ],
      "id": "qY2nPQSu49_H"
    },
    {
      "cell_type": "markdown",
      "metadata": {
        "id": "f18dd0ff-663c-4615-a8e1-9a883cbee341"
      },
      "source": [
        "### Download dataset from Drive"
      ],
      "id": "f18dd0ff-663c-4615-a8e1-9a883cbee341"
    },
    {
      "cell_type": "code",
      "execution_count": 4,
      "metadata": {
        "colab": {
          "base_uri": "https://localhost:8080/"
        },
        "id": "YoqEpmI_8YKS",
        "outputId": "97a414d6-23f9-4c2b-e4dc-d8d27e021d8e"
      },
      "outputs": [
        {
          "output_type": "stream",
          "name": "stdout",
          "text": [
            "Train data path on colab: /content/data/train\n",
            "Test data path on colab: /content/data/test\n"
          ]
        }
      ],
      "source": [
        "train_zip_path =  PROJECT_PATH / Path('cats_vs_dogs_dataset/train.zip')\n",
        "test_zip_path =  PROJECT_PATH / Path('cats_vs_dogs_dataset/test_labeled.zip')\n",
        "\n",
        "assert train_zip_path.exists(), f'Could not find data on drive: {train_zip_path}'\n",
        "assert test_zip_path.exists(), f'Could not find data on drive: {test_zip_path}'\n",
        "\n",
        "data_path = Path('./data')\n",
        "TRAIN_DATA_PATH = data_path / Path('train')\n",
        "TEST_DATA_PATH = data_path / Path('test')\n",
        "\n",
        "print(f'Train data path on colab: {TRAIN_DATA_PATH.absolute()}')\n",
        "print(f'Test data path on colab: {TEST_DATA_PATH.absolute()}')\n"
      ],
      "id": "YoqEpmI_8YKS"
    },
    {
      "cell_type": "code",
      "execution_count": 5,
      "metadata": {
        "id": "2ff93283-3ae1-4854-b166-b9dd46ca6fdd",
        "colab": {
          "base_uri": "https://localhost:8080/"
        },
        "outputId": "1e9e5734-d62e-4732-eb05-57080c471621"
      },
      "outputs": [
        {
          "output_type": "stream",
          "name": "stdout",
          "text": [
            "Deleting existing data folder\n",
            "Copying datasets from drive\n",
            "Extracting ZIP files\n",
            "Deleting zip files\n"
          ]
        }
      ],
      "source": [
        "import shutil\n",
        "import zipfile\n",
        "\n",
        "FORCE_DATA_DOWNLOAD = False\n",
        "\n",
        "if not ENVIRONMENT == 'Colab':\n",
        "  raise Exception('Auto data download only works in Colab mode!')\n",
        "\n",
        "# --- check folder existance\n",
        "if not data_path.exists() or FORCE_DATA_DOWNLOAD:\n",
        "    print('Deleting existing data folder')\n",
        "    if data_path.exists():\n",
        "        shutil.rmtree(data_path)\n",
        "\n",
        "    data_path.mkdir(parents=True, exist_ok=True)\n",
        "    print('Copying datasets from drive')\n",
        "    new_test_zip_path = data_path / test_zip_path.name\n",
        "    shutil.copy(test_zip_path, new_test_zip_path)\n",
        "\n",
        "    new_train_zip_path = data_path / train_zip_path.name\n",
        "    shutil.copy(train_zip_path, new_train_zip_path)\n",
        "\n",
        "    print('Extracting ZIP files')\n",
        "    with zipfile.ZipFile(new_test_zip_path, 'r') as zip_ref:\n",
        "        zip_ref.extractall(data_path)\n",
        "\n",
        "    with zipfile.ZipFile(new_train_zip_path, 'r') as zip_ref:\n",
        "        zip_ref.extractall(data_path)\n",
        "\n",
        "    print('Deleting zip files')\n",
        "    new_test_zip_path.unlink()\n",
        "    new_train_zip_path.unlink()\n",
        "\n"
      ],
      "id": "2ff93283-3ae1-4854-b166-b9dd46ca6fdd"
    },
    {
      "cell_type": "markdown",
      "metadata": {
        "id": "LEyvtlyexMv8"
      },
      "source": [
        "The available constants for use after the above code runs:\n",
        "\n",
        "\n",
        "*   PROJECT_PATH - Project root path\n",
        "*   TRAIN_DATA_PATH - train data path\n",
        "*   TEST_DATA_PATH - test data path\n",
        "\n"
      ],
      "id": "LEyvtlyexMv8"
    },
    {
      "cell_type": "markdown",
      "metadata": {
        "id": "hy7Mn6FP6_Nk"
      },
      "source": [
        "### Download code from drive"
      ],
      "id": "hy7Mn6FP6_Nk"
    },
    {
      "cell_type": "code",
      "execution_count": 6,
      "metadata": {
        "colab": {
          "base_uri": "https://localhost:8080/"
        },
        "id": "egDOk7Zk6ElT",
        "outputId": "fe96468c-9864-4d70-a555-68cd1ae7e5c2"
      },
      "outputs": [
        {
          "output_type": "stream",
          "name": "stdout",
          "text": [
            "Deleting existing src folder\n",
            "Copying src from drive\n",
            "Extracting ZIP file\n",
            "Deleting zip file\n"
          ]
        }
      ],
      "source": [
        "colab_src_path =  PROJECT_PATH / Path('notebooks/src.zip')\n",
        "assert colab_src_path.exists(), f'Could not find data on drive: {colab_src_path}'\n",
        "\n",
        "local_src_path = Path('./src')\n",
        "\n",
        "import shutil\n",
        "import zipfile\n",
        "\n",
        "FORCE_SRC_DOWNLOAD = True\n",
        "\n",
        "if not ENVIRONMENT == 'Colab':\n",
        "  raise Exception('Auto data download only works in Colab mode!')\n",
        "\n",
        "# --- check folder existance\n",
        "if not local_src_path.exists() or FORCE_SRC_DOWNLOAD:\n",
        "    print('Deleting existing src folder')\n",
        "    if local_src_path.exists():\n",
        "        shutil.rmtree(local_src_path)\n",
        "\n",
        "    local_src_path.mkdir(parents=True, exist_ok=True)\n",
        "\n",
        "    print('Copying src from drive')\n",
        "    new_src_path = local_src_path / colab_src_path.name\n",
        "    shutil.copy(colab_src_path, new_src_path)\n",
        "\n",
        "    print('Extracting ZIP file')\n",
        "    with zipfile.ZipFile(new_src_path, 'r') as src_ref:\n",
        "        src_ref.extractall('./')\n",
        "\n",
        "\n",
        "    print('Deleting zip file')\n",
        "    new_src_path.unlink()\n"
      ],
      "id": "egDOk7Zk6ElT"
    },
    {
      "cell_type": "markdown",
      "metadata": {
        "id": "30sWwV5j_r06"
      },
      "source": [
        "## Run"
      ],
      "id": "30sWwV5j_r06"
    },
    {
      "cell_type": "code",
      "execution_count": 7,
      "metadata": {
        "colab": {
          "base_uri": "https://localhost:8080/",
          "height": 182
        },
        "id": "Mi00NRTb5_Sg",
        "outputId": "91937122-bd6d-432d-f13d-b76b508cbcc9"
      },
      "outputs": [
        {
          "output_type": "error",
          "ename": "Exception",
          "evalue": "",
          "traceback": [
            "\u001b[0;31m---------------------------------------------------------------------------\u001b[0m",
            "\u001b[0;31mException\u001b[0m                                 Traceback (most recent call last)",
            "\u001b[0;32m<ipython-input-7-2aee0157c87b>\u001b[0m in \u001b[0;36m<cell line: 1>\u001b[0;34m()\u001b[0m\n\u001b[0;32m----> 1\u001b[0;31m \u001b[0;32mraise\u001b[0m \u001b[0mException\u001b[0m\u001b[0;34m\u001b[0m\u001b[0;34m\u001b[0m\u001b[0m\n\u001b[0m",
            "\u001b[0;31mException\u001b[0m: "
          ]
        }
      ],
      "source": [
        "raise Exception"
      ],
      "id": "Mi00NRTb5_Sg"
    },
    {
      "cell_type": "markdown",
      "metadata": {
        "id": "C45r-pzZUJZw"
      },
      "source": [
        "### ================================= Stop Here! =====================\n",
        "* Check what configurations you want to run\n",
        "* Put them in a folder\n",
        "* Use the below cell to scan the folder and make sure you run the right config\n",
        "* Then go ahead and continue"
      ],
      "id": "C45r-pzZUJZw"
    },
    {
      "cell_type": "markdown",
      "metadata": {
        "id": "x7p4mhEuqjQh"
      },
      "source": [
        "### Map configurations"
      ],
      "id": "x7p4mhEuqjQh"
    },
    {
      "cell_type": "code",
      "execution_count": 8,
      "metadata": {
        "colab": {
          "base_uri": "https://localhost:8080/"
        },
        "id": "FxWip62r-9j3",
        "outputId": "21eb2b66-31e2-4113-c3e6-819f24850ec1"
      },
      "outputs": [
        {
          "output_type": "stream",
          "name": "stdout",
          "text": [
            "Configurations found:\n",
            "/content/src/trainer/runners/run_configs/patch_adjacence/patch_adg_resnet18_5x5.json\n"
          ]
        }
      ],
      "source": [
        "from glob import glob\n",
        "\n",
        "run_config_path = '/content/src/trainer/runners/run_configs/patch_adjacence'\n",
        "\n",
        "configs_list = glob(f'{Path(run_config_path).absolute()}/*.json')\n",
        "print('Configurations found:')\n",
        "for c in configs_list:\n",
        "    print(c)"
      ],
      "id": "FxWip62r-9j3"
    },
    {
      "cell_type": "markdown",
      "metadata": {
        "id": "YzTubE7KqlMi"
      },
      "source": [
        "### Run!"
      ],
      "id": "YzTubE7KqlMi"
    },
    {
      "cell_type": "code",
      "execution_count": null,
      "metadata": {
        "colab": {
          "base_uri": "https://localhost:8080/"
        },
        "id": "6DnnqTTAp0Pr",
        "outputId": "6c6bc8c0-ea97-4ddd-be43-49dfecf47bb9"
      },
      "outputs": [
        {
          "output_type": "stream",
          "name": "stdout",
          "text": [
            "\u001b[96m============================================================================================\u001b[0m\n",
            "\u001b[96mStarting to run: /content/src/trainer/runners/run_configs/patch_adjacence/patch_adg_resnet18_5x5.json\u001b[0m\n",
            "\u001b[96m============================================================================================\u001b[0m\n",
            "Run output path: /content/drive/MyDrive/mlds_final_project/project/outputs/patchAdg_resnet18_5x5_20240117_095848\n",
            "Creating Datasets\n"
          ]
        },
        {
          "output_type": "stream",
          "name": "stderr",
          "text": [
            "/usr/local/lib/python3.10/dist-packages/torch/utils/data/dataloader.py:557: UserWarning: This DataLoader will create 3 worker processes in total. Our suggested max number of worker in current system is 2, which is smaller than what this DataLoader is going to create. Please be aware that excessive worker creation might get DataLoader running slow or even freeze, lower the worker number to avoid potential slowness/freeze if necessary.\n",
            "  warnings.warn(_create_warning_msg(\n",
            "/usr/local/lib/python3.10/dist-packages/torchvision/models/_utils.py:208: UserWarning: The parameter 'pretrained' is deprecated since 0.13 and may be removed in the future, please use 'weights' instead.\n",
            "  warnings.warn(\n",
            "/usr/local/lib/python3.10/dist-packages/torchvision/models/_utils.py:223: UserWarning: Arguments other than a weight enum or `None` for 'weights' are deprecated since 0.13 and may be removed in the future. The current behavior is equivalent to passing `weights=ResNet18_Weights.IMAGENET1K_V1`. You can also use `weights=ResNet18_Weights.DEFAULT` to get the most up-to-date weights.\n",
            "  warnings.warn(msg)\n",
            "Downloading: \"https://download.pytorch.org/models/resnet18-f37072fd.pth\" to /root/.cache/torch/hub/checkpoints/resnet18-f37072fd.pth\n",
            "100%|██████████| 44.7M/44.7M [00:00<00:00, 91.2MB/s]\n",
            "/usr/local/lib/python3.10/dist-packages/lightning/pytorch/utilities/parsing.py:198: Attribute 'inference_normalizer' is an instance of `nn.Module` and is already saved during checkpointing. It is recommended to ignore them using `self.save_hyperparameters(ignore=['inference_normalizer'])`.\n"
          ]
        },
        {
          "output_type": "stream",
          "name": "stdout",
          "text": [
            "TrainLogsCallback:\n",
            "Running on: Train: True, Validation: True, Test: False\n",
            "Saving logs to: /content/drive/MyDrive/mlds_final_project/project/outputs/patchAdg_resnet18_5x5_20240117_095848/train_log\n",
            "\n",
            "TrainLogsCallback:\n",
            "Running on: Train: False, Validation: False, Test: True\n",
            "Saving logs to: /content/drive/MyDrive/mlds_final_project/project/outputs/patchAdg_resnet18_5x5_20240117_095848/test_log\n",
            "\n",
            "PerSampleCsvLogCallback:\n",
            "Running on: Train: False, Validation: False, Test: True\n",
            "Saving logs to: /content/drive/MyDrive/mlds_final_project/project/outputs/patchAdg_resnet18_5x5_20240117_095848/test_predictions_log\n",
            "\n"
          ]
        },
        {
          "output_type": "stream",
          "name": "stderr",
          "text": [
            "INFO: GPU available: True (cuda), used: True\n",
            "INFO:lightning.pytorch.utilities.rank_zero:GPU available: True (cuda), used: True\n",
            "INFO: TPU available: False, using: 0 TPU cores\n",
            "INFO:lightning.pytorch.utilities.rank_zero:TPU available: False, using: 0 TPU cores\n",
            "INFO: IPU available: False, using: 0 IPUs\n",
            "INFO:lightning.pytorch.utilities.rank_zero:IPU available: False, using: 0 IPUs\n",
            "INFO: HPU available: False, using: 0 HPUs\n",
            "INFO:lightning.pytorch.utilities.rank_zero:HPU available: False, using: 0 HPUs\n",
            "WARNING: Missing logger folder: /content/drive/MyDrive/mlds_final_project/project/outputs/patchAdg_resnet18_5x5_20240117_095848/tb_logs\n",
            "WARNING:lightning.pytorch.loggers.tensorboard:Missing logger folder: /content/drive/MyDrive/mlds_final_project/project/outputs/patchAdg_resnet18_5x5_20240117_095848/tb_logs\n",
            "INFO: LOCAL_RANK: 0 - CUDA_VISIBLE_DEVICES: [0]\n",
            "INFO:lightning.pytorch.accelerators.cuda:LOCAL_RANK: 0 - CUDA_VISIBLE_DEVICES: [0]\n",
            "INFO: \n",
            "  | Name                 | Type             | Params\n",
            "----------------------------------------------------------\n",
            "0 | model                | ResNet           | 11.2 M\n",
            "1 | criterion            | CrossEntropyLoss | 0     \n",
            "2 | inference_normalizer | Softmax          | 0     \n",
            "----------------------------------------------------------\n",
            "11.2 M    Trainable params\n",
            "0         Non-trainable params\n",
            "11.2 M    Total params\n",
            "44.754    Total estimated model params size (MB)\n",
            "INFO:lightning.pytorch.callbacks.model_summary:\n",
            "  | Name                 | Type             | Params\n",
            "----------------------------------------------------------\n",
            "0 | model                | ResNet           | 11.2 M\n",
            "1 | criterion            | CrossEntropyLoss | 0     \n",
            "2 | inference_normalizer | Softmax          | 0     \n",
            "----------------------------------------------------------\n",
            "11.2 M    Trainable params\n",
            "0         Non-trainable params\n",
            "11.2 M    Total params\n",
            "44.754    Total estimated model params size (MB)\n"
          ]
        }
      ],
      "source": [
        "from google.colab import runtime\n",
        "\n",
        "from src.trainer.trainer_modules.train_flow import execute_train_flow\n",
        "from src.util_functions.util_functions import load_dict_from_json\n",
        "from src.util_functions.printc import printc\n",
        "\n",
        "for run_config_path in configs_list:\n",
        "    printc.cyan('============================================================================================')\n",
        "    printc.cyan(f'Starting to run: {run_config_path}')\n",
        "    printc.cyan('============================================================================================')\n",
        "\n",
        "    run_params = load_dict_from_json(run_config_path)\n",
        "    execute_train_flow(run_params, PROJECT_PATH, TRAIN_DATA_PATH, TEST_DATA_PATH, stop_before_fit=False)\n",
        "\n",
        "printc.cyan('============================================================================================')\n",
        "printc.cyan('-------------------------------------All Done!----------------------------------------------')\n",
        "printc.cyan('============================================================================================')\n",
        "\n"
      ],
      "id": "6DnnqTTAp0Pr"
    },
    {
      "cell_type": "markdown",
      "metadata": {
        "id": "wdNCYlNI9_HU"
      },
      "source": [
        "### Discnnect runtime"
      ],
      "id": "wdNCYlNI9_HU"
    },
    {
      "cell_type": "code",
      "execution_count": null,
      "metadata": {
        "id": "S8wmRknO99hw"
      },
      "outputs": [],
      "source": [
        "runtime.unassign()"
      ],
      "id": "S8wmRknO99hw"
    }
  ],
  "metadata": {
    "accelerator": "GPU",
    "colab": {
      "collapsed_sections": [
        "eab64bd9-b826-4c39-9f01-d2822c1e60e2"
      ],
      "provenance": []
    },
    "kernelspec": {
      "display_name": "Python 3",
      "name": "python3"
    },
    "language_info": {
      "codemirror_mode": {
        "name": "ipython",
        "version": 3
      },
      "file_extension": ".py",
      "mimetype": "text/x-python",
      "name": "python",
      "nbconvert_exporter": "python",
      "pygments_lexer": "ipython3",
      "version": "3.10.8"
    }
  },
  "nbformat": 4,
  "nbformat_minor": 5
}