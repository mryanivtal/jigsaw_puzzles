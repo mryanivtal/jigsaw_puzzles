{
 "cells": [
  {
   "cell_type": "markdown",
   "id": "eab64bd9-b826-4c39-9f01-d2822c1e60e2",
   "metadata": {},
   "source": [
    "### Env Control parameters"
   ]
  },
  {
   "cell_type": "code",
   "execution_count": 36,
   "id": "30dcf1b9-da30-4342-9fc3-e6ade5282c5e",
   "metadata": {},
   "outputs": [],
   "source": [
    "from pathlib import Path"
   ]
  },
  {
   "cell_type": "code",
   "execution_count": 43,
   "id": "e5da3920-59f9-4c9d-8207-a10a9b806861",
   "metadata": {},
   "outputs": [],
   "source": [
    "ENVIRONMENT = 'Local'\n",
    "# ENVIRONMENT = 'Colab'\n",
    "\n",
    "DRIVE_PROJECT_PATH = Path('/content/drive/MyDrive/mlds_final_project/project')\n",
    "LOCAL_PROJECT_PATH = Path.cwd().parent\n",
    "\n",
    "RUN_NAME = 'yaniv_test'\n",
    "USE_TIMESTAMP_IN_FOLDER_NAME = False"
   ]
  },
  {
   "cell_type": "markdown",
   "id": "12621383-9197-470e-afd2-2be714ccd5df",
   "metadata": {},
   "source": [
    "### Create output folder"
   ]
  },
  {
   "cell_type": "code",
   "execution_count": 44,
   "id": "5ba684c7-a6d0-4993-969c-525f78b0792d",
   "metadata": {},
   "outputs": [
    {
     "name": "stdout",
     "output_type": "stream",
     "text": [
      "Run output path: D:\\docs\\Study\\DSML_IDC\\Final project\\project\\run_outputs\\yaniv_test\n"
     ]
    }
   ],
   "source": [
    "from datetime import datetime\n",
    "\n",
    "timestamp_str = datetime.now().strftime(\"%d_%m_%Y__%H_%M_%S\")\n",
    "if USE_TIMESTAMP_IN_FOLDER_NAME:\n",
    "    run_output_dir = Path(f'{RUN_NAME}_{timestamp_str}')\n",
    "else:\n",
    "    run_output_dir = Path(f'run_outputs/{RUN_NAME}')\n",
    "\n",
    "\n",
    "if ENVIRONMENT == 'Colab':\n",
    "    # from google.colab import drive\n",
    "    # drive.mount('/content/drive')\n",
    "    project_path = DRIVE_PROJECT_PATH\n",
    "    \n",
    "elif ENVIRONMENT == 'Local':\n",
    "    project_path = LOCAL_PROJECT_PATH\n",
    "\n",
    "else:\n",
    "    raise ValueError(f'ENVIRONMENT should be either Local or Colab!')\n",
    "\n",
    "\n",
    "output_path = project_path / run_output_dir\n",
    "print(f'Run output path: {output_path}')\n",
    "\n",
    "# Create output folder\n",
    "output_path.mkdir(parents=True, exist_ok=True)"
   ]
  },
  {
   "cell_type": "markdown",
   "id": "f18dd0ff-663c-4615-a8e1-9a883cbee341",
   "metadata": {},
   "source": [
    "### Download and prepare data"
   ]
  },
  {
   "cell_type": "code",
   "execution_count": 32,
   "id": "2ff93283-3ae1-4854-b166-b9dd46ca6fdd",
   "metadata": {},
   "outputs": [
    {
     "name": "stdout",
     "output_type": "stream",
     "text": [
      "Kaggle token path: D:\\content\\drive\\MyDrive\\mlds_final_project\\project\\kaggle.json\n"
     ]
    }
   ],
   "source": [
    "\n",
    "\n",
    "kaggle_token_path = KAGGLE_TOKEN_PATH = project_path / Path('kaggle.json')\n",
    "print(f'Kaggle token path: {kaggle_token_path.absolute()}')\n",
    "\n"
   ]
  }
 ],
 "metadata": {
  "kernelspec": {
   "display_name": "Python 3 (ipykernel)",
   "language": "python",
   "name": "python3"
  },
  "language_info": {
   "codemirror_mode": {
    "name": "ipython",
    "version": 3
   },
   "file_extension": ".py",
   "mimetype": "text/x-python",
   "name": "python",
   "nbconvert_exporter": "python",
   "pygments_lexer": "ipython3",
   "version": "3.10.8"
  }
 },
 "nbformat": 4,
 "nbformat_minor": 5
}
