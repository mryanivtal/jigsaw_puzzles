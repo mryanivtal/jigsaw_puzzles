{
  "cells": [
    {
      "cell_type": "markdown",
      "id": "eab64bd9-b826-4c39-9f01-d2822c1e60e2",
      "metadata": {
        "id": "eab64bd9-b826-4c39-9f01-d2822c1e60e2"
      },
      "source": [
        "### Env Control parameters"
      ]
    },
    {
      "cell_type": "code",
      "execution_count": 1,
      "id": "30dcf1b9-da30-4342-9fc3-e6ade5282c5e",
      "metadata": {
        "id": "30dcf1b9-da30-4342-9fc3-e6ade5282c5e"
      },
      "outputs": [],
      "source": [
        "from pathlib import Path"
      ]
    },
    {
      "cell_type": "code",
      "execution_count": 2,
      "id": "e5da3920-59f9-4c9d-8207-a10a9b806861",
      "metadata": {
        "id": "e5da3920-59f9-4c9d-8207-a10a9b806861"
      },
      "outputs": [],
      "source": [
        "# --- Run setting - colab or local\n",
        "# ENVIRONMENT = 'Local'\n",
        "ENVIRONMENT = 'Colab'\n",
        "\n",
        "# --- Paths\n",
        "DRIVE_PROJECT_PATH = Path('/content/drive/MyDrive/mlds_final_project/project')\n",
        "LOCAL_PROJECT_PATH = Path.cwd().parent\n",
        "\n",
        "\n",
        "# ---Run name\n",
        "RUN_NAME = 'yaniv_test'\n",
        "ADD_TIMESTAMP_TO_FLODER_NAME = False"
      ]
    },
    {
      "cell_type": "code",
      "source": [
        "# --- Mount google drive\n",
        "\n",
        "if ENVIRONMENT == 'Colab':\n",
        "    from google.colab import drive\n",
        "    drive.mount('/content/drive')\n",
        "    project_path = DRIVE_PROJECT_PATH\n",
        "\n",
        "elif ENVIRONMENT == 'Local':\n",
        "    project_path = LOCAL_PROJECT_PATH\n",
        "\n",
        "else:\n",
        "    raise ValueError(f'ENVIRONMENT should be either Local or Colab!')"
      ],
      "metadata": {
        "id": "qY2nPQSu49_H"
      },
      "id": "qY2nPQSu49_H",
      "execution_count": null,
      "outputs": []
    },
    {
      "cell_type": "markdown",
      "id": "f18dd0ff-663c-4615-a8e1-9a883cbee341",
      "metadata": {
        "id": "f18dd0ff-663c-4615-a8e1-9a883cbee341"
      },
      "source": [
        "### Download dataset from Kaggle"
      ]
    },
    {
      "cell_type": "code",
      "source": [
        "data_path = Path('./data')\n",
        "print(f'Data path on colab: {Path(\"./data\").absolute()}')\n",
        "\n",
        "train_data_path = data_path / Path('train/train')\n",
        "test_data_path = data_path / Path('test/test')"
      ],
      "metadata": {
        "id": "YoqEpmI_8YKS"
      },
      "id": "YoqEpmI_8YKS",
      "execution_count": null,
      "outputs": []
    },
    {
      "cell_type": "code",
      "execution_count": null,
      "id": "2ff93283-3ae1-4854-b166-b9dd46ca6fdd",
      "metadata": {
        "id": "2ff93283-3ae1-4854-b166-b9dd46ca6fdd"
      },
      "outputs": [],
      "source": [
        "import shutil\n",
        "\n",
        "# --- Download data from Kaggle\n",
        "FORCE_DATA_DOWNLOAD = False\n",
        "\n",
        "if not ENVIRONMENT == 'Colab':\n",
        "  raise Exception('Auto data download only works in Colab mode!')\n",
        "\n",
        "\n",
        "# --- check folder existance\n",
        "if data_path.exists() and not FORCE_DATA_DOWNLOAD:\n",
        "  raise Exception('Data already on local, stopping!')\n",
        "\n",
        "# --- download kaggle token\n",
        "kaggle_token_path = KAGGLE_TOKEN_PATH = project_path / Path('kaggle.json')\n",
        "if not kaggle_token_path.exists():\n",
        "  raise FileNotFoundException(f'Kaggle key not found in drive: {kaggle_token_path.absolute()}')\n",
        "\n",
        "Path('/root/.kaggle').mkdir(parents=True, exist_ok=True)\n",
        "shutil.copyfile(kaggle_token_path, f'/root/.kaggle/{kaggle_token_path.name}')\n",
        "!chmod 600 /root/.kaggle/kaggle.json\n",
        "print('Kaggle key copied to local')\n",
        "\n",
        "# --- Download data\n",
        "!rm -rf ./data\n",
        "!mkdir ./data\n",
        "!pip install kaggle\n",
        "!kaggle datasets download -d biaiscience/dogs-vs-cats\n",
        "!unzip dogs-vs-cats.zip -d ./data\n",
        "!rm dogs-vs-cats.zip\n"
      ]
    },
    {
      "cell_type": "markdown",
      "id": "12621383-9197-470e-afd2-2be714ccd5df",
      "metadata": {
        "id": "12621383-9197-470e-afd2-2be714ccd5df"
      },
      "source": [
        "### Create current run output folder"
      ]
    },
    {
      "cell_type": "code",
      "execution_count": null,
      "id": "5ba684c7-a6d0-4993-969c-525f78b0792d",
      "metadata": {
        "id": "5ba684c7-a6d0-4993-969c-525f78b0792d"
      },
      "outputs": [],
      "source": [
        "from datetime import datetime\n",
        "\n",
        "def create_run_output_folder(project_path, run_name, add_timestamp):\n",
        "  timestamp_str = datetime.now().strftime(\"%d_%m_%Y__%H_%M_%S\")\n",
        "  if add_timestamp:\n",
        "      run_output_dir = Path(f'{run_name}_{timestamp_str}')\n",
        "  else:\n",
        "      run_output_dir = Path(f'run_outputs/{run_name}')\n",
        "\n",
        "\n",
        "  output_path = project_path / run_output_dir\n",
        "  print(f'Run output path: {output_path}')\n",
        "\n",
        "  # Create output folder\n",
        "  output_path.mkdir(parents=True, exist_ok=True)"
      ]
    },
    {
      "cell_type": "code",
      "source": [
        " create_run_output_folder(project_path, RUN_NAME, ADD_TIMESTAMP_TO_FLODER_NAME)"
      ],
      "metadata": {
        "id": "pTruqTzp7zHo"
      },
      "id": "pTruqTzp7zHo",
      "execution_count": null,
      "outputs": []
    },
    {
      "cell_type": "code",
      "source": [],
      "metadata": {
        "id": "u0PGnq9s6m90"
      },
      "id": "u0PGnq9s6m90",
      "execution_count": null,
      "outputs": []
    }
  ],
  "metadata": {
    "kernelspec": {
      "display_name": "Python 3 (ipykernel)",
      "language": "python",
      "name": "python3"
    },
    "language_info": {
      "codemirror_mode": {
        "name": "ipython",
        "version": 3
      },
      "file_extension": ".py",
      "mimetype": "text/x-python",
      "name": "python",
      "nbconvert_exporter": "python",
      "pygments_lexer": "ipython3",
      "version": "3.10.8"
    },
    "colab": {
      "provenance": []
    }
  },
  "nbformat": 4,
  "nbformat_minor": 5
}